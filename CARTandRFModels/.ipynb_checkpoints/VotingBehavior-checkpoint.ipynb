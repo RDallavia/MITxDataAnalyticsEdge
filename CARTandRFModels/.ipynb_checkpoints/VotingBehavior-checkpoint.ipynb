{
 "cells": [
  {
   "cell_type": "markdown",
   "metadata": {},
   "source": [
    "# Why Do People Vote?"
   ]
  },
  {
   "cell_type": "markdown",
   "metadata": {},
   "source": [
    "### The Study\n",
    "\"In August 2006 three researchers (Alan Gerber and Donald Green of Yale University, and Christopher Larimer of the University of Northern Iowa) carried out a large scale field experiment in Michigan, USA to test the hypothesis that one of the reasons people vote is social, or extrinsic, pressure.\" \n",
    "\n",
    "\"The researchers grouped about 344,000 voters into different groups randomly - about 191,000 voters were a \"control\" group, and the rest were categorized into one of four \"treatment\" groups. These five groups correspond to five binary variables in the dataset.\"\n",
    "\n",
    "(source: MITx)"
   ]
  },
  {
   "cell_type": "markdown",
   "metadata": {},
   "source": [
    "### The Variables\n",
    "\n",
    "**\"Civic Duty\" (variable civicduty)** group members were sent a note saying \"DO YOUR CIVIC DUTY - VOTE!\"\n",
    "\n",
    "**\"Hawthorne Effect\" (variable hawthorne)** group members were sent a the \"Civic Duty\" message plus the message \"YOU ARE BEING STUDIED\" and told their voting behavior would be examined via public records.\n",
    "\n",
    "**\"Self\" (variable self)** group members were sent the \"Civic Duty\" message, in addition to recent voting records for everyone in their home. Furthermore, an updated message stated that updated voting records for the household would be sent after the election.\n",
    "\n",
    "**\"Neighbors\" (variable neighbors)** group members received the same message the \"Self\" group, accompanied not only by the household voting records, but also those of neighbors.  This was done to maximize social pressure.\n",
    "\n",
    "**\"Control\" (variable control)** group members received and represented the typical voter.\n",
    "\n",
    "Additional variables include **sex** (0 for male, 1 for female), **yob (year of birth)**, and **the dependent variable voting** (1 if they voted, 0 otherwise).\n",
    "\n",
    "(source: MITx)"
   ]
  },
  {
   "cell_type": "code",
   "execution_count": 148,
   "metadata": {},
   "outputs": [],
   "source": [
    "gerber = read.csv(\"gerber.csv\")"
   ]
  },
  {
   "cell_type": "markdown",
   "metadata": {},
   "source": [
    "### Exploratory Data Analysis"
   ]
  },
  {
   "cell_type": "code",
   "execution_count": 5,
   "metadata": {},
   "outputs": [
    {
     "name": "stdout",
     "output_type": "stream",
     "text": [
      "'data.frame':\t344084 obs. of  8 variables:\n",
      " $ sex      : int  0 1 1 1 0 1 0 0 1 0 ...\n",
      " $ yob      : int  1941 1947 1982 1950 1951 1959 1956 1981 1968 1967 ...\n",
      " $ voting   : int  0 0 1 1 1 1 1 0 0 0 ...\n",
      " $ hawthorne: int  0 0 1 1 1 0 0 0 0 0 ...\n",
      " $ civicduty: int  1 1 0 0 0 0 0 0 0 0 ...\n",
      " $ neighbors: int  0 0 0 0 0 0 0 0 0 0 ...\n",
      " $ self     : int  0 0 0 0 0 0 0 0 0 0 ...\n",
      " $ control  : int  0 0 0 0 0 1 1 1 1 1 ...\n"
     ]
    }
   ],
   "source": [
    "str(gerber)"
   ]
  },
  {
   "cell_type": "code",
   "execution_count": 7,
   "metadata": {},
   "outputs": [
    {
     "data": {
      "text/plain": [
       "      sex              yob           voting         hawthorne    \n",
       " Min.   :0.0000   Min.   :1900   Min.   :0.0000   Min.   :0.000  \n",
       " 1st Qu.:0.0000   1st Qu.:1947   1st Qu.:0.0000   1st Qu.:0.000  \n",
       " Median :0.0000   Median :1956   Median :0.0000   Median :0.000  \n",
       " Mean   :0.4993   Mean   :1956   Mean   :0.3159   Mean   :0.111  \n",
       " 3rd Qu.:1.0000   3rd Qu.:1965   3rd Qu.:1.0000   3rd Qu.:0.000  \n",
       " Max.   :1.0000   Max.   :1986   Max.   :1.0000   Max.   :1.000  \n",
       "   civicduty        neighbors          self           control      \n",
       " Min.   :0.0000   Min.   :0.000   Min.   :0.0000   Min.   :0.0000  \n",
       " 1st Qu.:0.0000   1st Qu.:0.000   1st Qu.:0.0000   1st Qu.:0.0000  \n",
       " Median :0.0000   Median :0.000   Median :0.0000   Median :1.0000  \n",
       " Mean   :0.1111   Mean   :0.111   Mean   :0.1111   Mean   :0.5558  \n",
       " 3rd Qu.:0.0000   3rd Qu.:0.000   3rd Qu.:0.0000   3rd Qu.:1.0000  \n",
       " Max.   :1.0000   Max.   :1.000   Max.   :1.0000   Max.   :1.0000  "
      ]
     },
     "metadata": {},
     "output_type": "display_data"
    }
   ],
   "source": [
    "summary(gerber)"
   ]
  },
  {
   "cell_type": "markdown",
   "metadata": {},
   "source": [
    "Only 31.59% of individuals in the data set voted."
   ]
  },
  {
   "cell_type": "code",
   "execution_count": 145,
   "metadata": {},
   "outputs": [],
   "source": [
    "voter_percent = function(df, x, y, table_cell){\n",
    "    \n",
    "    # Input: Dataframe as variable, x and y as column\n",
    "    # names (strings), and the number of the cell of interest\n",
    "    # as an int [1,4].\n",
    "    #\n",
    "    # Output: Yields the value of a single \n",
    "    # cell in a proportionate table as a percentage.\n",
    "    \n",
    "    base_table = table(df[[x]], df[[y]])\n",
    "    cross_table = prop.table(base_table, margin=1)\n",
    "    return (round((cross_table[[table_cell]]*100),2))\n",
    "}"
   ]
  },
  {
   "cell_type": "code",
   "execution_count": 146,
   "metadata": {},
   "outputs": [
    {
     "name": "stdout",
     "output_type": "stream",
     "text": [
      "[1] \"32.24% of the hawthorne group voted.\"\n",
      "[1] \"31.45% of the civicduty group voted.\"\n",
      "[1] \"37.79% of the neighbors group voted.\"\n",
      "[1] \"34.52% of the self group voted.\"\n",
      "[1] \"29.66% of the control group voted.\"\n"
     ]
    }
   ],
   "source": [
    "columns = c(colnames(gerber)[4:8])\n",
    "for (i in columns){\n",
    "    print(paste(voter_percent(gerber, i, \"voting\", 4), \"% of the \", i ,\" group voted.\", sep=\"\"))\n",
    "}\n"
   ]
  },
  {
   "cell_type": "markdown",
   "metadata": {},
   "source": [
    "The data above indicate the largest percentage of study participants who actually voted were in the \"neighbors\" cohort. This suggests heightened social pressure may increase one's propensity to vote.  "
   ]
  },
  {
   "cell_type": "code",
   "execution_count": 150,
   "metadata": {},
   "outputs": [],
   "source": [
    "logit1 = glm(voting ~ civicduty + hawthorne + self + neighbors, data=gerber, family='binomial')"
   ]
  },
  {
   "cell_type": "code",
   "execution_count": 151,
   "metadata": {},
   "outputs": [
    {
     "data": {
      "text/plain": [
       "\n",
       "Call:\n",
       "glm(formula = voting ~ civicduty + hawthorne + self + neighbors, \n",
       "    family = \"binomial\", data = gerber)\n",
       "\n",
       "Deviance Residuals: \n",
       "    Min       1Q   Median       3Q      Max  \n",
       "-0.9744  -0.8691  -0.8389   1.4586   1.5590  \n",
       "\n",
       "Coefficients:\n",
       "             Estimate Std. Error  z value Pr(>|z|)    \n",
       "(Intercept) -0.863358   0.005006 -172.459  < 2e-16 ***\n",
       "civicduty    0.084368   0.012100    6.972 3.12e-12 ***\n",
       "hawthorne    0.120477   0.012037   10.009  < 2e-16 ***\n",
       "self         0.222937   0.011867   18.786  < 2e-16 ***\n",
       "neighbors    0.365092   0.011679   31.260  < 2e-16 ***\n",
       "---\n",
       "Signif. codes:  0 ‘***’ 0.001 ‘**’ 0.01 ‘*’ 0.05 ‘.’ 0.1 ‘ ’ 1\n",
       "\n",
       "(Dispersion parameter for binomial family taken to be 1)\n",
       "\n",
       "    Null deviance: 429238  on 344083  degrees of freedom\n",
       "Residual deviance: 428090  on 344079  degrees of freedom\n",
       "AIC: 428100\n",
       "\n",
       "Number of Fisher Scoring iterations: 4\n"
      ]
     },
     "metadata": {},
     "output_type": "display_data"
    }
   ],
   "source": [
    "summary(logit1)"
   ]
  },
  {
   "cell_type": "markdown",
   "metadata": {},
   "source": [
    "We constructed a logistic model using the entire response vector (i.e., voting) as the dependent variable and the four \"treatment groups\" (i.e., civicduty, hawthorne, self, neighbors) as independent variables. The results were surprising: all four groups were attended by coefficients that were highly significant. Restated, while voting behavior appears to be related to membership in any of the four groups, none stood out one way or the other. "
   ]
  },
  {
   "cell_type": "code",
   "execution_count": null,
   "metadata": {},
   "outputs": [],
   "source": []
  }
 ],
 "metadata": {
  "kernelspec": {
   "display_name": "R",
   "language": "R",
   "name": "ir"
  },
  "language_info": {
   "codemirror_mode": "r",
   "file_extension": ".r",
   "mimetype": "text/x-r-source",
   "name": "R",
   "pygments_lexer": "r",
   "version": "3.6.0"
  }
 },
 "nbformat": 4,
 "nbformat_minor": 2
}
