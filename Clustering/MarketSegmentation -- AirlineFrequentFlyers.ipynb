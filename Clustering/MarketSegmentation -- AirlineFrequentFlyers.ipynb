{
 "cells": [
  {
   "cell_type": "markdown",
   "metadata": {},
   "source": [
    "## Market Segementation & Clustering Algorithms ##"
   ]
  },
  {
   "cell_type": "markdown",
   "metadata": {},
   "source": [
    "Market segmentation divides a broad target market into smaller, similar cohorts. Companies then design a specific marketing strategy for each group. Clustering is commonly used for market segmentation, as it finds similar groups in a data set. \n",
    "\n",
    "Here, we see how clustering is applied to customers who are members of an airline's frequent flyer program. The company's objective is to learn more about this group, so that it can target different sub-segments within what appears to be a homogenous population with different, mileage-based offers. \n",
    "\n",
    "The data come from the textbook, \"Data Mining for Business Intelligence,\" by Galit Shmueli, Nitin R. Patel, and Peter C. Bruce.\n",
    "\n",
    "(source: MITx)"
   ]
  },
  {
   "cell_type": "markdown",
   "metadata": {},
   "source": [
    "**The Variables**"
   ]
  },
  {
   "cell_type": "markdown",
   "metadata": {},
   "source": [
    "There are seven different variables in the dataset:\n",
    "\n",
    "***Balance*** = number of miles eligible for award travel\n",
    "\n",
    "***QualMiles*** = number of miles qualifying for TopFlight status\n",
    "\n",
    "***BonusMiles*** = number of miles earned from non-flight bonus \n",
    "\n",
    "***transactions*** in the past 12 months\n",
    "\n",
    "***BonusTrans*** = number of non-flight bonus transactions in the past 12 months\n",
    "\n",
    "***FlightMiles*** = number of flight miles in the past 12 months\n",
    "\n",
    "***FlightTrans*** = number of flight transactions in the past 12 months\n",
    "\n",
    "***DaysSinceEnroll*** = number of days since enrolled in the frequent flyer program"
   ]
  },
  {
   "cell_type": "markdown",
   "metadata": {},
   "source": [
    "### Data Preparation ###"
   ]
  },
  {
   "cell_type": "code",
   "execution_count": 2,
   "metadata": {},
   "outputs": [],
   "source": [
    "airlines = read.csv(\"AirlinesCluster.csv\")"
   ]
  },
  {
   "cell_type": "code",
   "execution_count": 3,
   "metadata": {},
   "outputs": [
    {
     "name": "stdout",
     "output_type": "stream",
     "text": [
      "'data.frame':\t3999 obs. of  7 variables:\n",
      " $ Balance        : int  28143 19244 41354 14776 97752 16420 84914 20856 443003 104860 ...\n",
      " $ QualMiles      : int  0 0 0 0 0 0 0 0 0 0 ...\n",
      " $ BonusMiles     : int  174 215 4123 500 43300 0 27482 5250 1753 28426 ...\n",
      " $ BonusTrans     : int  1 2 4 1 26 0 25 4 43 28 ...\n",
      " $ FlightMiles    : int  0 0 0 0 2077 0 0 250 3850 1150 ...\n",
      " $ FlightTrans    : int  0 0 0 0 4 0 0 1 12 3 ...\n",
      " $ DaysSinceEnroll: int  7000 6968 7034 6952 6935 6942 6994 6938 6948 6931 ...\n"
     ]
    }
   ],
   "source": [
    "str(airlines)"
   ]
  },
  {
   "cell_type": "code",
   "execution_count": 4,
   "metadata": {},
   "outputs": [
    {
     "data": {
      "text/plain": [
       "    Balance          QualMiles         BonusMiles       BonusTrans  \n",
       " Min.   :      0   Min.   :    0.0   Min.   :     0   Min.   : 0.0  \n",
       " 1st Qu.:  18528   1st Qu.:    0.0   1st Qu.:  1250   1st Qu.: 3.0  \n",
       " Median :  43097   Median :    0.0   Median :  7171   Median :12.0  \n",
       " Mean   :  73601   Mean   :  144.1   Mean   : 17145   Mean   :11.6  \n",
       " 3rd Qu.:  92404   3rd Qu.:    0.0   3rd Qu.: 23800   3rd Qu.:17.0  \n",
       " Max.   :1704838   Max.   :11148.0   Max.   :263685   Max.   :86.0  \n",
       "  FlightMiles       FlightTrans     DaysSinceEnroll\n",
       " Min.   :    0.0   Min.   : 0.000   Min.   :   2   \n",
       " 1st Qu.:    0.0   1st Qu.: 0.000   1st Qu.:2330   \n",
       " Median :    0.0   Median : 0.000   Median :4096   \n",
       " Mean   :  460.1   Mean   : 1.374   Mean   :4119   \n",
       " 3rd Qu.:  311.0   3rd Qu.: 1.000   3rd Qu.:5790   \n",
       " Max.   :30817.0   Max.   :53.000   Max.   :8296   "
      ]
     },
     "metadata": {},
     "output_type": "display_data"
    }
   ],
   "source": [
    "summary(airlines)"
   ]
  },
  {
   "cell_type": "markdown",
   "metadata": {},
   "source": [
    "### Exploratory Data Analysis ###"
   ]
  },
  {
   "cell_type": "markdown",
   "metadata": {},
   "source": [
    "Locating the predictors that have the maximum and minimum values is generally a fruitful exercise."
   ]
  },
  {
   "cell_type": "markdown",
   "metadata": {},
   "source": [
    "It looks like the **Balance** feature contains the largest value in our data set."
   ]
  },
  {
   "cell_type": "code",
   "execution_count": 79,
   "metadata": {},
   "outputs": [
    {
     "data": {
      "text/html": [
       "<dl class=dl-horizontal>\n",
       "\t<dt>Balance</dt>\n",
       "\t\t<dd>1704838</dd>\n",
       "\t<dt>BonusMiles</dt>\n",
       "\t\t<dd>263685</dd>\n",
       "\t<dt>FlightMiles</dt>\n",
       "\t\t<dd>30817</dd>\n",
       "\t<dt>QualMiles</dt>\n",
       "\t\t<dd>11148</dd>\n",
       "\t<dt>DaysSinceEnroll</dt>\n",
       "\t\t<dd>8296</dd>\n",
       "\t<dt>BonusTrans</dt>\n",
       "\t\t<dd>86</dd>\n",
       "\t<dt>FlightTrans</dt>\n",
       "\t\t<dd>53</dd>\n",
       "</dl>\n"
      ],
      "text/latex": [
       "\\begin{description*}\n",
       "\\item[Balance] 1704838\n",
       "\\item[BonusMiles] 263685\n",
       "\\item[FlightMiles] 30817\n",
       "\\item[QualMiles] 11148\n",
       "\\item[DaysSinceEnroll] 8296\n",
       "\\item[BonusTrans] 86\n",
       "\\item[FlightTrans] 53\n",
       "\\end{description*}\n"
      ],
      "text/markdown": [
       "Balance\n",
       ":   1704838BonusMiles\n",
       ":   263685FlightMiles\n",
       ":   30817QualMiles\n",
       ":   11148DaysSinceEnroll\n",
       ":   8296BonusTrans\n",
       ":   86FlightTrans\n",
       ":   53\n",
       "\n"
      ],
      "text/plain": [
       "        Balance      BonusMiles     FlightMiles       QualMiles DaysSinceEnroll \n",
       "        1704838          263685           30817           11148            8296 \n",
       "     BonusTrans     FlightTrans \n",
       "             86              53 "
      ]
     },
     "metadata": {},
     "output_type": "display_data"
    }
   ],
   "source": [
    "sort(sapply(airlines,max), decreasing=TRUE, method='radix')"
   ]
  },
  {
   "cell_type": "markdown",
   "metadata": {},
   "source": [
    "Based on the output below, we see that the **FlightTrans** predictor has the smallest value in our data set."
   ]
  },
  {
   "cell_type": "code",
   "execution_count": 81,
   "metadata": {},
   "outputs": [
    {
     "data": {
      "text/html": [
       "<dl class=dl-horizontal>\n",
       "\t<dt>FlightTrans</dt>\n",
       "\t\t<dd>1.37359339834959</dd>\n",
       "\t<dt>BonusTrans</dt>\n",
       "\t\t<dd>11.6019004751188</dd>\n",
       "\t<dt>QualMiles</dt>\n",
       "\t\t<dd>144.114528632158</dd>\n",
       "\t<dt>FlightMiles</dt>\n",
       "\t\t<dd>460.055763940985</dd>\n",
       "\t<dt>DaysSinceEnroll</dt>\n",
       "\t\t<dd>4118.55938984746</dd>\n",
       "\t<dt>BonusMiles</dt>\n",
       "\t\t<dd>17144.8462115529</dd>\n",
       "\t<dt>Balance</dt>\n",
       "\t\t<dd>73601.3275818955</dd>\n",
       "</dl>\n"
      ],
      "text/latex": [
       "\\begin{description*}\n",
       "\\item[FlightTrans] 1.37359339834959\n",
       "\\item[BonusTrans] 11.6019004751188\n",
       "\\item[QualMiles] 144.114528632158\n",
       "\\item[FlightMiles] 460.055763940985\n",
       "\\item[DaysSinceEnroll] 4118.55938984746\n",
       "\\item[BonusMiles] 17144.8462115529\n",
       "\\item[Balance] 73601.3275818955\n",
       "\\end{description*}\n"
      ],
      "text/markdown": [
       "FlightTrans\n",
       ":   1.37359339834959BonusTrans\n",
       ":   11.6019004751188QualMiles\n",
       ":   144.114528632158FlightMiles\n",
       ":   460.055763940985DaysSinceEnroll\n",
       ":   4118.55938984746BonusMiles\n",
       ":   17144.8462115529Balance\n",
       ":   73601.3275818955\n",
       "\n"
      ],
      "text/plain": [
       "    FlightTrans      BonusTrans       QualMiles     FlightMiles DaysSinceEnroll \n",
       "       1.373593       11.601900      144.114529      460.055764     4118.559390 \n",
       "     BonusMiles         Balance \n",
       "   17144.846212    73601.327582 "
      ]
     },
     "metadata": {},
     "output_type": "display_data"
    }
   ],
   "source": [
    "sort(sapply(lapply(airlines, mean), min), decreasing=FALSE, method='radix')"
   ]
  },
  {
   "cell_type": "markdown",
   "metadata": {},
   "source": [
    "A cursory review of our lists of maximum and minimum values above reveals a vast discrepancy in scale among our predictors. This is problematic in clustering where averages are relied upon as the basis for the placement of observations within clusters. Below, we normalize the data to prevent larger values from dominating our calculations. "
   ]
  },
  {
   "cell_type": "code",
   "execution_count": 5,
   "metadata": {},
   "outputs": [
    {
     "name": "stderr",
     "output_type": "stream",
     "text": [
      "Warning message in install.packages(\"caret\"):\n",
      "“installation of package ‘caret’ had non-zero exit status”Updating HTML index of packages in '.Library'\n",
      "Making 'packages.html' ... done\n",
      "Loading required package: lattice\n",
      "Loading required package: ggplot2\n",
      "Registered S3 methods overwritten by 'ggplot2':\n",
      "  method         from \n",
      "  [.quosures     rlang\n",
      "  c.quosures     rlang\n",
      "  print.quosures rlang\n"
     ]
    }
   ],
   "source": [
    "install.packages(\"caret\")\n",
    "library(caret)"
   ]
  },
  {
   "cell_type": "code",
   "execution_count": 6,
   "metadata": {},
   "outputs": [],
   "source": [
    "# preprocess the data\n",
    "preproc = preProcess(airlines)\n",
    "# preprocess the data\n",
    "airlinesNorm = predict(preproc, airlines)"
   ]
  },
  {
   "cell_type": "code",
   "execution_count": 8,
   "metadata": {},
   "outputs": [
    {
     "data": {
      "text/plain": [
       "    Balance          QualMiles         BonusMiles        BonusTrans      \n",
       " Min.   :-0.7303   Min.   :-0.1863   Min.   :-0.7099   Min.   :-1.20805  \n",
       " 1st Qu.:-0.5465   1st Qu.:-0.1863   1st Qu.:-0.6581   1st Qu.:-0.89568  \n",
       " Median :-0.3027   Median :-0.1863   Median :-0.4130   Median : 0.04145  \n",
       " Mean   : 0.0000   Mean   : 0.0000   Mean   : 0.0000   Mean   : 0.00000  \n",
       " 3rd Qu.: 0.1866   3rd Qu.:-0.1863   3rd Qu.: 0.2756   3rd Qu.: 0.56208  \n",
       " Max.   :16.1868   Max.   :14.2231   Max.   :10.2083   Max.   : 7.74673  \n",
       "  FlightMiles       FlightTrans       DaysSinceEnroll   \n",
       " Min.   :-0.3286   Min.   :-0.36212   Min.   :-1.99336  \n",
       " 1st Qu.:-0.3286   1st Qu.:-0.36212   1st Qu.:-0.86607  \n",
       " Median :-0.3286   Median :-0.36212   Median :-0.01092  \n",
       " Mean   : 0.0000   Mean   : 0.00000   Mean   : 0.00000  \n",
       " 3rd Qu.:-0.1065   3rd Qu.:-0.09849   3rd Qu.: 0.80960  \n",
       " Max.   :21.6803   Max.   :13.61035   Max.   : 2.02284  "
      ]
     },
     "metadata": {},
     "output_type": "display_data"
    }
   ],
   "source": [
    "# verify normalization has occurred (mean = 0, sd = 1)\n",
    "summary(airlinesNorm)"
   ]
  },
  {
   "cell_type": "code",
   "execution_count": 11,
   "metadata": {},
   "outputs": [
    {
     "data": {
      "text/html": [
       "<dl>\n",
       "\t<dt>$Balance</dt>\n",
       "\t\t<dd>1</dd>\n",
       "\t<dt>$QualMiles</dt>\n",
       "\t\t<dd>1</dd>\n",
       "\t<dt>$BonusMiles</dt>\n",
       "\t\t<dd>1</dd>\n",
       "\t<dt>$BonusTrans</dt>\n",
       "\t\t<dd>1</dd>\n",
       "\t<dt>$FlightMiles</dt>\n",
       "\t\t<dd>1</dd>\n",
       "\t<dt>$FlightTrans</dt>\n",
       "\t\t<dd>1</dd>\n",
       "\t<dt>$DaysSinceEnroll</dt>\n",
       "\t\t<dd>1</dd>\n",
       "</dl>\n"
      ],
      "text/latex": [
       "\\begin{description}\n",
       "\\item[\\$Balance] 1\n",
       "\\item[\\$QualMiles] 1\n",
       "\\item[\\$BonusMiles] 1\n",
       "\\item[\\$BonusTrans] 1\n",
       "\\item[\\$FlightMiles] 1\n",
       "\\item[\\$FlightTrans] 1\n",
       "\\item[\\$DaysSinceEnroll] 1\n",
       "\\end{description}\n"
      ],
      "text/markdown": [
       "$Balance\n",
       ":   1\n",
       "$QualMiles\n",
       ":   1\n",
       "$BonusMiles\n",
       ":   1\n",
       "$BonusTrans\n",
       ":   1\n",
       "$FlightMiles\n",
       ":   1\n",
       "$FlightTrans\n",
       ":   1\n",
       "$DaysSinceEnroll\n",
       ":   1\n",
       "\n",
       "\n"
      ],
      "text/plain": [
       "$Balance\n",
       "[1] 1\n",
       "\n",
       "$QualMiles\n",
       "[1] 1\n",
       "\n",
       "$BonusMiles\n",
       "[1] 1\n",
       "\n",
       "$BonusTrans\n",
       "[1] 1\n",
       "\n",
       "$FlightMiles\n",
       "[1] 1\n",
       "\n",
       "$FlightTrans\n",
       "[1] 1\n",
       "\n",
       "$DaysSinceEnroll\n",
       "[1] 1\n"
      ]
     },
     "metadata": {},
     "output_type": "display_data"
    }
   ],
   "source": [
    "# retrieve standard deviations for normalized features\n",
    "lapply(airlinesNorm, sd)"
   ]
  },
  {
   "cell_type": "markdown",
   "metadata": {},
   "source": [
    "The mean values for all predictors is zero, while their standard deviations have been set to one. We can, therefore, conclude data normalization was successful.  "
   ]
  },
  {
   "cell_type": "markdown",
   "metadata": {},
   "source": [
    "Interestingly, prior to normalization, the variable with the maximum value was **Balance**. Post normalization, **FlightMiles** takes the top spot."
   ]
  },
  {
   "cell_type": "code",
   "execution_count": 78,
   "metadata": {},
   "outputs": [
    {
     "data": {
      "text/html": [
       "<dl class=dl-horizontal>\n",
       "\t<dt>FlightMiles</dt>\n",
       "\t\t<dd>21.6802923859018</dd>\n",
       "\t<dt>Balance</dt>\n",
       "\t\t<dd>16.1868113010578</dd>\n",
       "\t<dt>QualMiles</dt>\n",
       "\t\t<dd>14.2230842504047</dd>\n",
       "\t<dt>FlightTrans</dt>\n",
       "\t\t<dd>13.610350650989</dd>\n",
       "\t<dt>BonusMiles</dt>\n",
       "\t\t<dd>10.2082929165594</dd>\n",
       "\t<dt>BonusTrans</dt>\n",
       "\t\t<dd>7.74672728007656</dd>\n",
       "\t<dt>DaysSinceEnroll</dt>\n",
       "\t\t<dd>2.02284186757624</dd>\n",
       "</dl>\n"
      ],
      "text/latex": [
       "\\begin{description*}\n",
       "\\item[FlightMiles] 21.6802923859018\n",
       "\\item[Balance] 16.1868113010578\n",
       "\\item[QualMiles] 14.2230842504047\n",
       "\\item[FlightTrans] 13.610350650989\n",
       "\\item[BonusMiles] 10.2082929165594\n",
       "\\item[BonusTrans] 7.74672728007656\n",
       "\\item[DaysSinceEnroll] 2.02284186757624\n",
       "\\end{description*}\n"
      ],
      "text/markdown": [
       "FlightMiles\n",
       ":   21.6802923859018Balance\n",
       ":   16.1868113010578QualMiles\n",
       ":   14.2230842504047FlightTrans\n",
       ":   13.610350650989BonusMiles\n",
       ":   10.2082929165594BonusTrans\n",
       ":   7.74672728007656DaysSinceEnroll\n",
       ":   2.02284186757624\n",
       "\n"
      ],
      "text/plain": [
       "    FlightMiles         Balance       QualMiles     FlightTrans      BonusMiles \n",
       "      21.680292       16.186811       14.223084       13.610351       10.208293 \n",
       "     BonusTrans DaysSinceEnroll \n",
       "       7.746727        2.022842 "
      ]
     },
     "metadata": {},
     "output_type": "display_data"
    }
   ],
   "source": [
    "sort(sapply(airlinesNorm,max), decreasing=TRUE, method='radix')"
   ]
  },
  {
   "cell_type": "markdown",
   "metadata": {},
   "source": [
    "Additionally, before normalization, the **FlightTrans** predictor was the smallest average value in our data set. This has been supplanted by **DaysSinceEnroll**."
   ]
  },
  {
   "cell_type": "code",
   "execution_count": 72,
   "metadata": {},
   "outputs": [
    {
     "data": {
      "text/html": [
       "<dl class=dl-horizontal>\n",
       "\t<dt>DaysSinceEnroll</dt>\n",
       "\t\t<dd>-1.99336135716923</dd>\n",
       "\t<dt>BonusTrans</dt>\n",
       "\t\t<dd>-1.20805181160949</dd>\n",
       "\t<dt>Balance</dt>\n",
       "\t\t<dd>-0.730348220598438</dd>\n",
       "\t<dt>BonusMiles</dt>\n",
       "\t\t<dd>-0.709903070341544</dd>\n",
       "\t<dt>FlightTrans</dt>\n",
       "\t\t<dd>-0.362122584817356</dd>\n",
       "\t<dt>FlightMiles</dt>\n",
       "\t\t<dd>-0.328562170108424</dd>\n",
       "\t<dt>QualMiles</dt>\n",
       "\t\t<dd>-0.186275392249039</dd>\n",
       "</dl>\n"
      ],
      "text/latex": [
       "\\begin{description*}\n",
       "\\item[DaysSinceEnroll] -1.99336135716923\n",
       "\\item[BonusTrans] -1.20805181160949\n",
       "\\item[Balance] -0.730348220598438\n",
       "\\item[BonusMiles] -0.709903070341544\n",
       "\\item[FlightTrans] -0.362122584817356\n",
       "\\item[FlightMiles] -0.328562170108424\n",
       "\\item[QualMiles] -0.186275392249039\n",
       "\\end{description*}\n"
      ],
      "text/markdown": [
       "DaysSinceEnroll\n",
       ":   -1.99336135716923BonusTrans\n",
       ":   -1.20805181160949Balance\n",
       ":   -0.730348220598438BonusMiles\n",
       ":   -0.709903070341544FlightTrans\n",
       ":   -0.362122584817356FlightMiles\n",
       ":   -0.328562170108424QualMiles\n",
       ":   -0.186275392249039\n",
       "\n"
      ],
      "text/plain": [
       "DaysSinceEnroll      BonusTrans         Balance      BonusMiles     FlightTrans \n",
       "     -1.9933614      -1.2080518      -0.7303482      -0.7099031      -0.3621226 \n",
       "    FlightMiles       QualMiles \n",
       "     -0.3285622      -0.1862754 "
      ]
     },
     "metadata": {},
     "output_type": "display_data"
    }
   ],
   "source": [
    "sort(sapply(airlinesNorm,min), decreasing=FALSE, method='radix')"
   ]
  },
  {
   "cell_type": "markdown",
   "metadata": {},
   "source": [
    "## Hierarchial Clustering Model ##"
   ]
  },
  {
   "cell_type": "code",
   "execution_count": null,
   "metadata": {},
   "outputs": [],
   "source": []
  }
 ],
 "metadata": {
  "kernelspec": {
   "display_name": "R",
   "language": "R",
   "name": "ir"
  },
  "language_info": {
   "codemirror_mode": "r",
   "file_extension": ".r",
   "mimetype": "text/x-r-source",
   "name": "R",
   "pygments_lexer": "r",
   "version": "3.6.0"
  }
 },
 "nbformat": 4,
 "nbformat_minor": 2
}
