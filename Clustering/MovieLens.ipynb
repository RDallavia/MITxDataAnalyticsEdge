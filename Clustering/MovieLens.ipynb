{
 "cells": [
  {
   "cell_type": "markdown",
   "metadata": {},
   "source": [
    "### Preparation of Data from the Internet ###"
   ]
  },
  {
   "cell_type": "code",
   "execution_count": 6,
   "metadata": {},
   "outputs": [],
   "source": [
    "movies = read.table(\"movie_lens.txt\", header=FALSE, sep=\"|\", quote=\"\\\"\")"
   ]
  },
  {
   "cell_type": "code",
   "execution_count": 7,
   "metadata": {},
   "outputs": [
    {
     "name": "stdout",
     "output_type": "stream",
     "text": [
      "'data.frame':\t1682 obs. of  24 variables:\n",
      " $ V1 : int  1 2 3 4 5 6 7 8 9 10 ...\n",
      " $ V2 : Factor w/ 1664 levels \"'Til There Was You (1997)\",..: 1525 618 555 594 344 1318 1545 111 391 1240 ...\n",
      " $ V3 : Factor w/ 241 levels \"\",\"01-Aug-1997\",..: 71 71 71 71 71 71 71 71 71 182 ...\n",
      " $ V4 : logi  NA NA NA NA NA NA ...\n",
      " $ V5 : Factor w/ 1661 levels \"\",\"http://us.imdb.com/M/title-exact?%22Langoliers,%20The%22%20(1995)%20(mini)\",..: 1430 564 504 542 309 1661 1452 102 356 1182 ...\n",
      " $ V6 : int  0 0 0 0 0 0 0 0 0 0 ...\n",
      " $ V7 : int  0 1 0 1 0 0 0 0 0 0 ...\n",
      " $ V8 : int  0 1 0 0 0 0 0 0 0 0 ...\n",
      " $ V9 : int  1 0 0 0 0 0 0 0 0 0 ...\n",
      " $ V10: int  1 0 0 0 0 0 0 1 0 0 ...\n",
      " $ V11: int  1 0 0 1 0 0 0 1 0 0 ...\n",
      " $ V12: int  0 0 0 0 1 0 0 0 0 0 ...\n",
      " $ V13: int  0 0 0 0 0 0 0 0 0 0 ...\n",
      " $ V14: int  0 0 0 1 1 1 1 1 1 1 ...\n",
      " $ V15: int  0 0 0 0 0 0 0 0 0 0 ...\n",
      " $ V16: int  0 0 0 0 0 0 0 0 0 0 ...\n",
      " $ V17: int  0 0 0 0 0 0 0 0 0 0 ...\n",
      " $ V18: int  0 0 0 0 0 0 0 0 0 0 ...\n",
      " $ V19: int  0 0 0 0 0 0 0 0 0 0 ...\n",
      " $ V20: int  0 0 0 0 0 0 0 0 0 0 ...\n",
      " $ V21: int  0 0 0 0 0 0 1 0 0 0 ...\n",
      " $ V22: int  0 1 1 0 1 0 0 0 0 0 ...\n",
      " $ V23: int  0 0 0 0 0 0 0 0 0 1 ...\n",
      " $ V24: int  0 0 0 0 0 0 0 0 0 0 ...\n"
     ]
    }
   ],
   "source": [
    "str(movies)"
   ]
  },
  {
   "cell_type": "markdown",
   "metadata": {},
   "source": [
    "**Add column names**"
   ]
  },
  {
   "cell_type": "code",
   "execution_count": 12,
   "metadata": {},
   "outputs": [],
   "source": [
    "colnames(movies) = c(\"ID\", \"Title\", \"ReleaseDate\", \"VideoReleaseDate\", \"IMDB\", \"Unknown\", \"Action\", \"Adventure\", \"Animation\", \"Childrens\", \"Comedy\", \"Crime\", \"Documentary\", \"Drama\", \"Fantasy\", \"FilmNoir\", \"Horror\", \"Musical\", \"Mystery\", \"Romance\", \"Sci-Fi\", \"Thriller\", \"War\", \"Western\")"
   ]
  },
  {
   "cell_type": "code",
   "execution_count": 13,
   "metadata": {},
   "outputs": [
    {
     "name": "stdout",
     "output_type": "stream",
     "text": [
      "'data.frame':\t1682 obs. of  24 variables:\n",
      " $ ID              : int  1 2 3 4 5 6 7 8 9 10 ...\n",
      " $ Title           : Factor w/ 1664 levels \"'Til There Was You (1997)\",..: 1525 618 555 594 344 1318 1545 111 391 1240 ...\n",
      " $ ReleaseDate     : Factor w/ 241 levels \"\",\"01-Aug-1997\",..: 71 71 71 71 71 71 71 71 71 182 ...\n",
      " $ VideoReleaseDate: logi  NA NA NA NA NA NA ...\n",
      " $ IMDB            : Factor w/ 1661 levels \"\",\"http://us.imdb.com/M/title-exact?%22Langoliers,%20The%22%20(1995)%20(mini)\",..: 1430 564 504 542 309 1661 1452 102 356 1182 ...\n",
      " $ Unknown         : int  0 0 0 0 0 0 0 0 0 0 ...\n",
      " $ Action          : int  0 1 0 1 0 0 0 0 0 0 ...\n",
      " $ Adventure       : int  0 1 0 0 0 0 0 0 0 0 ...\n",
      " $ Animation       : int  1 0 0 0 0 0 0 0 0 0 ...\n",
      " $ Childrens       : int  1 0 0 0 0 0 0 1 0 0 ...\n",
      " $ Comedy          : int  1 0 0 1 0 0 0 1 0 0 ...\n",
      " $ Crime           : int  0 0 0 0 1 0 0 0 0 0 ...\n",
      " $ Documentary     : int  0 0 0 0 0 0 0 0 0 0 ...\n",
      " $ Drama           : int  0 0 0 1 1 1 1 1 1 1 ...\n",
      " $ Fantasy         : int  0 0 0 0 0 0 0 0 0 0 ...\n",
      " $ FilmNoir        : int  0 0 0 0 0 0 0 0 0 0 ...\n",
      " $ Horror          : int  0 0 0 0 0 0 0 0 0 0 ...\n",
      " $ Musical         : int  0 0 0 0 0 0 0 0 0 0 ...\n",
      " $ Mystery         : int  0 0 0 0 0 0 0 0 0 0 ...\n",
      " $ Romance         : int  0 0 0 0 0 0 0 0 0 0 ...\n",
      " $ Sci-Fi          : int  0 0 0 0 0 0 1 0 0 0 ...\n",
      " $ Thriller        : int  0 1 1 0 1 0 0 0 0 0 ...\n",
      " $ War             : int  0 0 0 0 0 0 0 0 0 1 ...\n",
      " $ Western         : int  0 0 0 0 0 0 0 0 0 0 ...\n"
     ]
    }
   ],
   "source": [
    "str(movies)"
   ]
  },
  {
   "cell_type": "markdown",
   "metadata": {},
   "source": [
    "**Remove unneeded variables from dataset**"
   ]
  },
  {
   "cell_type": "code",
   "execution_count": 14,
   "metadata": {},
   "outputs": [],
   "source": [
    "cols_remove = c(\"ID\", \"ReleaseDate\", \"VideoReleaseDate\", \"IMDB\")\n",
    "movies[cols_remove] = NULL"
   ]
  },
  {
   "cell_type": "markdown",
   "metadata": {},
   "source": [
    "**Remove duplicate entries in dataset**"
   ]
  },
  {
   "cell_type": "code",
   "execution_count": 16,
   "metadata": {},
   "outputs": [],
   "source": [
    "movies = unique(movies)"
   ]
  },
  {
   "cell_type": "code",
   "execution_count": 17,
   "metadata": {},
   "outputs": [
    {
     "name": "stdout",
     "output_type": "stream",
     "text": [
      "'data.frame':\t1664 obs. of  20 variables:\n",
      " $ Title      : Factor w/ 1664 levels \"'Til There Was You (1997)\",..: 1525 618 555 594 344 1318 1545 111 391 1240 ...\n",
      " $ Unknown    : int  0 0 0 0 0 0 0 0 0 0 ...\n",
      " $ Action     : int  0 1 0 1 0 0 0 0 0 0 ...\n",
      " $ Adventure  : int  0 1 0 0 0 0 0 0 0 0 ...\n",
      " $ Animation  : int  1 0 0 0 0 0 0 0 0 0 ...\n",
      " $ Childrens  : int  1 0 0 0 0 0 0 1 0 0 ...\n",
      " $ Comedy     : int  1 0 0 1 0 0 0 1 0 0 ...\n",
      " $ Crime      : int  0 0 0 0 1 0 0 0 0 0 ...\n",
      " $ Documentary: int  0 0 0 0 0 0 0 0 0 0 ...\n",
      " $ Drama      : int  0 0 0 1 1 1 1 1 1 1 ...\n",
      " $ Fantasy    : int  0 0 0 0 0 0 0 0 0 0 ...\n",
      " $ FilmNoir   : int  0 0 0 0 0 0 0 0 0 0 ...\n",
      " $ Horror     : int  0 0 0 0 0 0 0 0 0 0 ...\n",
      " $ Musical    : int  0 0 0 0 0 0 0 0 0 0 ...\n",
      " $ Mystery    : int  0 0 0 0 0 0 0 0 0 0 ...\n",
      " $ Romance    : int  0 0 0 0 0 0 0 0 0 0 ...\n",
      " $ Sci-Fi     : int  0 0 0 0 0 0 1 0 0 0 ...\n",
      " $ Thriller   : int  0 1 1 0 1 0 0 0 0 0 ...\n",
      " $ War        : int  0 0 0 0 0 0 0 0 0 1 ...\n",
      " $ Western    : int  0 0 0 0 0 0 0 0 0 0 ...\n"
     ]
    }
   ],
   "source": [
    "str(movies)"
   ]
  },
  {
   "cell_type": "code",
   "execution_count": null,
   "metadata": {},
   "outputs": [],
   "source": []
  }
 ],
 "metadata": {
  "kernelspec": {
   "display_name": "R",
   "language": "R",
   "name": "ir"
  },
  "language_info": {
   "codemirror_mode": "r",
   "file_extension": ".r",
   "mimetype": "text/x-r-source",
   "name": "R",
   "pygments_lexer": "r",
   "version": "3.6.0"
  }
 },
 "nbformat": 4,
 "nbformat_minor": 2
}
