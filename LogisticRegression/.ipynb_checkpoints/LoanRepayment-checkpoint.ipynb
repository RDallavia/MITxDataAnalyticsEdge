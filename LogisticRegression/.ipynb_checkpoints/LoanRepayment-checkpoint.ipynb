{
 "cells": [
  {
   "cell_type": "markdown",
   "metadata": {},
   "source": [
    "# Predicting Loan Repayment #"
   ]
  },
  {
   "cell_type": "markdown",
   "metadata": {},
   "source": [
    "## Key Takeaways: ##\n",
    "\n",
    "- **Our initial logistic model was 83.64% accurate relative to a baseline accuracy rate of 83.99%. Though underwhelming, when assessed against the ROC curve, the model's AUC came in at .6721, decidedly better than the benchmark .5 (i.e., a coin toss).**\n",
    "\n",
    "\n",
    "- **Our initial model also outperformed a bivariate \"smart baseline\" whose AUC was .6239.**\n",
    "\n",
    "\n",
    "- **Risk predictions from our model were used to successfully identify a subset of 100 high-yield loans in which one could invest to maximize return and tailor risk exposure to one's liking.**\n",
    "\n",
    "\n",
    "- **We increased the parsimony of our model in our \"Beyond the Assignment\" section, an addition not required by MIT. Gains were not made the model's confusion matrix accuracy remained unchanged, and its AUC profile declined by only .0021. We consider this a win, given the streamlining we achieved.**"
   ]
  },
  {
   "cell_type": "markdown",
   "metadata": {},
   "source": [
    "### The Problem ###"
   ]
  },
  {
   "cell_type": "markdown",
   "metadata": {},
   "source": [
    "Investors lend funds to borrowers in exchange for the repayment of principal with interest according to an agreed upon schedule. If the borrower repays the loan, the lender profits from interest earned on the outstanding principal balance.  Additionally, once the principal is returned, the lender is free to loan the capital out again, thereby repeating the earnings process. \n",
    "\n",
    "Not all borrowers, however, are able to repay their loans. In such cases, the lender loses future profit from interest earned on principal, in addition to the return of the full principal amount itself.\n",
    "\n",
    "Can data analytics assist lenders in identifying which borrowers are likely to fail to repay their loans in full?\n",
    "\n",
    "(source: MITx)"
   ]
  },
  {
   "cell_type": "markdown",
   "metadata": {},
   "source": [
    "### The Data ###"
   ]
  },
  {
   "cell_type": "markdown",
   "metadata": {},
   "source": [
    "\"To address this problem, we will use publicly available data from LendingClub.com, a website that connects borrowers and investors over the Internet. This dataset represents 9,578 3-year loans that were funded through the LendingClub.com platform between May 2007 and February 2010. The binary dependent variable not.fully.paid indicates that the loan was not paid back in full (the borrower either defaulted or the loan was \"charged off,\" meaning the borrower was deemed unlikely to ever pay it back).\"\n",
    "\n",
    "To predict this dependent variable, we will use the following independent variables available to the investor when deciding whether to fund a loan:\n",
    "\n",
    "**credit.policy**: 1 if the customer meets the credit underwriting criteria of LendingClub.com, and 0 otherwise.\n",
    "\n",
    "**purpose**: The purpose of the loan (takes values \"credit_card\", \"debt_consolidation\", \"educational\", \"major_purchase\", \"small_business\", and \"all_other\").\n",
    "\n",
    "**int.rate**: The interest rate of the loan, as a proportion (a rate of 11% would be stored as 0.11). Borrowers judged by LendingClub.com to be more risky are assigned higher interest rates.\n",
    "\n",
    "**installment**: The monthly installments ($) owed by the borrower if the loan is funded.\n",
    "\n",
    "**log.annual.inc**: The natural log of the self-reported annual income of the borrower.\n",
    "\n",
    "**dti**: The debt-to-income ratio of the borrower (amount of debt divided by annual income).\n",
    "\n",
    "**fico**: The FICO credit score of the borrower.\n",
    "\n",
    "**days.with.cr.line**: The number of days the borrower has had a credit line.\n",
    "\n",
    "**revol.bal**: The borrower's revolving balance (amount unpaid at the end of the credit card billing cycle).\n",
    "\n",
    "**revol.util**: The borrower's revolving line utilization rate (the amount of the credit line used relative to total credit available).\n",
    "\n",
    "**inq.last.6mths**: The borrower's number of inquiries by creditors in the last 6 months.\n",
    "\n",
    "**delinq.2yrs**: The number of times the borrower had been 30+ days past due on a payment in the past 2 years.\n",
    "\n",
    "**pub.rec**: The borrower's number of derogatory public records (bankruptcy filings, tax liens, or judgments).\n",
    "\n",
    "(source: MITx)"
   ]
  },
  {
   "cell_type": "code",
   "execution_count": 47,
   "metadata": {},
   "outputs": [],
   "source": [
    "loans = read.csv(\"loans.csv\")"
   ]
  },
  {
   "cell_type": "markdown",
   "metadata": {},
   "source": [
    "### Data Structure ###"
   ]
  },
  {
   "cell_type": "code",
   "execution_count": 48,
   "metadata": {},
   "outputs": [
    {
     "name": "stdout",
     "output_type": "stream",
     "text": [
      "'data.frame':\t9578 obs. of  14 variables:\n",
      " $ credit.policy    : int  1 1 1 1 1 1 1 1 1 1 ...\n",
      " $ purpose          : Factor w/ 7 levels \"all_other\",\"credit_card\",..: 3 2 3 3 2 2 3 1 5 3 ...\n",
      " $ int.rate         : num  0.119 0.107 0.136 0.101 0.143 ...\n",
      " $ installment      : num  829 228 367 162 103 ...\n",
      " $ log.annual.inc   : num  11.4 11.1 10.4 11.4 11.3 ...\n",
      " $ dti              : num  19.5 14.3 11.6 8.1 15 ...\n",
      " $ fico             : int  737 707 682 712 667 727 667 722 682 707 ...\n",
      " $ days.with.cr.line: num  5640 2760 4710 2700 4066 ...\n",
      " $ revol.bal        : int  28854 33623 3511 33667 4740 50807 3839 24220 69909 5630 ...\n",
      " $ revol.util       : num  52.1 76.7 25.6 73.2 39.5 51 76.8 68.6 51.1 23 ...\n",
      " $ inq.last.6mths   : int  0 0 1 1 0 0 0 0 1 1 ...\n",
      " $ delinq.2yrs      : int  0 0 0 0 1 0 0 0 0 0 ...\n",
      " $ pub.rec          : int  0 0 0 0 0 0 1 0 0 0 ...\n",
      " $ not.fully.paid   : int  0 0 0 0 0 0 1 1 0 0 ...\n"
     ]
    }
   ],
   "source": [
    "str(loans)"
   ]
  },
  {
   "cell_type": "markdown",
   "metadata": {},
   "source": [
    "### Data Summary ###"
   ]
  },
  {
   "cell_type": "code",
   "execution_count": 49,
   "metadata": {},
   "outputs": [
    {
     "data": {
      "text/plain": [
       " credit.policy                 purpose        int.rate       installment    \n",
       " Min.   :0.000   all_other         :2331   Min.   :0.0600   Min.   : 15.67  \n",
       " 1st Qu.:1.000   credit_card       :1262   1st Qu.:0.1039   1st Qu.:163.77  \n",
       " Median :1.000   debt_consolidation:3957   Median :0.1221   Median :268.95  \n",
       " Mean   :0.805   educational       : 343   Mean   :0.1226   Mean   :319.09  \n",
       " 3rd Qu.:1.000   home_improvement  : 629   3rd Qu.:0.1407   3rd Qu.:432.76  \n",
       " Max.   :1.000   major_purchase    : 437   Max.   :0.2164   Max.   :940.14  \n",
       "                 small_business    : 619                                    \n",
       " log.annual.inc        dti              fico       days.with.cr.line\n",
       " Min.   : 7.548   Min.   : 0.000   Min.   :612.0   Min.   :  179    \n",
       " 1st Qu.:10.558   1st Qu.: 7.213   1st Qu.:682.0   1st Qu.: 2820    \n",
       " Median :10.928   Median :12.665   Median :707.0   Median : 4140    \n",
       " Mean   :10.932   Mean   :12.607   Mean   :710.8   Mean   : 4562    \n",
       " 3rd Qu.:11.290   3rd Qu.:17.950   3rd Qu.:737.0   3rd Qu.: 5730    \n",
       " Max.   :14.528   Max.   :29.960   Max.   :827.0   Max.   :17640    \n",
       " NA's   :4                                         NA's   :29       \n",
       "   revol.bal         revol.util     inq.last.6mths    delinq.2yrs     \n",
       " Min.   :      0   Min.   :  0.00   Min.   : 0.000   Min.   : 0.0000  \n",
       " 1st Qu.:   3187   1st Qu.: 22.70   1st Qu.: 0.000   1st Qu.: 0.0000  \n",
       " Median :   8596   Median : 46.40   Median : 1.000   Median : 0.0000  \n",
       " Mean   :  16914   Mean   : 46.87   Mean   : 1.572   Mean   : 0.1638  \n",
       " 3rd Qu.:  18250   3rd Qu.: 71.00   3rd Qu.: 2.000   3rd Qu.: 0.0000  \n",
       " Max.   :1207359   Max.   :119.00   Max.   :33.000   Max.   :13.0000  \n",
       "                   NA's   :62       NA's   :29       NA's   :29       \n",
       "    pub.rec       not.fully.paid  \n",
       " Min.   :0.0000   Min.   :0.0000  \n",
       " 1st Qu.:0.0000   1st Qu.:0.0000  \n",
       " Median :0.0000   Median :0.0000  \n",
       " Mean   :0.0621   Mean   :0.1601  \n",
       " 3rd Qu.:0.0000   3rd Qu.:0.0000  \n",
       " Max.   :5.0000   Max.   :1.0000  \n",
       " NA's   :29                       "
      ]
     },
     "metadata": {},
     "output_type": "display_data"
    }
   ],
   "source": [
    "summary(loans)"
   ]
  },
  {
   "cell_type": "markdown",
   "metadata": {},
   "source": [
    "### Exploratory Data Analysis ### "
   ]
  },
  {
   "cell_type": "code",
   "execution_count": 50,
   "metadata": {},
   "outputs": [
    {
     "name": "stderr",
     "output_type": "stream",
     "text": [
      "Updating HTML index of packages in '.Library'\n",
      "Making 'packages.html' ... done\n",
      "Updating HTML index of packages in '.Library'\n",
      "Making 'packages.html' ... done\n",
      "Updating HTML index of packages in '.Library'\n",
      "Making 'packages.html' ... done\n",
      "Updating HTML index of packages in '.Library'\n",
      "Making 'packages.html' ... done\n",
      "Updating HTML index of packages in '.Library'\n",
      "Making 'packages.html' ... done\n"
     ]
    }
   ],
   "source": [
    "install.packages(\"corrplot\")\n",
    "install.packages(\"ggplot2\")\n",
    "install.packages(\"mice\")\n",
    "install.packages(\"caTools\")\n",
    "install.packages(\"ROCR\")\n",
    "library(ROCR)\n",
    "library(caTools)\n",
    "library(corrplot)\n",
    "library(mice)\n",
    "library(ggplot2)"
   ]
  },
  {
   "cell_type": "markdown",
   "metadata": {},
   "source": [
    "Columns missing at least one value are listed below. We will approximate these values using \"Multiple Imputation by Chained Equations\" (a/k/a \"MICE\") and complete our data set."
   ]
  },
  {
   "cell_type": "code",
   "execution_count": 51,
   "metadata": {},
   "outputs": [
    {
     "name": "stdout",
     "output_type": "stream",
     "text": [
      "log.annual.inc, days.with.cr.line, revol.util, inq.last.6mths, delinq.2yrs, pub.rec"
     ]
    }
   ],
   "source": [
    "# https://stackoverflow.com/questions/20364450\n",
    "na_values = colnames(loans)[apply(is.na(loans), 2, any)]\n",
    "cat(na_values, sep=\", \")"
   ]
  },
  {
   "cell_type": "code",
   "execution_count": 52,
   "metadata": {},
   "outputs": [
    {
     "name": "stdout",
     "output_type": "stream",
     "text": [
      "\n",
      " iter imp variable\n",
      "  1   1  log.annual.inc  days.with.cr.line  revol.util  inq.last.6mths  delinq.2yrs  pub.rec\n",
      "  1   2  log.annual.inc  days.with.cr.line  revol.util  inq.last.6mths  delinq.2yrs  pub.rec\n",
      "  1   3  log.annual.inc  days.with.cr.line  revol.util  inq.last.6mths  delinq.2yrs  pub.rec\n",
      "  1   4  log.annual.inc  days.with.cr.line  revol.util  inq.last.6mths  delinq.2yrs  pub.rec\n",
      "  1   5  log.annual.inc  days.with.cr.line  revol.util  inq.last.6mths  delinq.2yrs  pub.rec\n",
      "  2   1  log.annual.inc  days.with.cr.line  revol.util  inq.last.6mths  delinq.2yrs  pub.rec\n",
      "  2   2  log.annual.inc  days.with.cr.line  revol.util  inq.last.6mths  delinq.2yrs  pub.rec\n",
      "  2   3  log.annual.inc  days.with.cr.line  revol.util  inq.last.6mths  delinq.2yrs  pub.rec\n",
      "  2   4  log.annual.inc  days.with.cr.line  revol.util  inq.last.6mths  delinq.2yrs  pub.rec\n",
      "  2   5  log.annual.inc  days.with.cr.line  revol.util  inq.last.6mths  delinq.2yrs  pub.rec\n",
      "  3   1  log.annual.inc  days.with.cr.line  revol.util  inq.last.6mths  delinq.2yrs  pub.rec\n",
      "  3   2  log.annual.inc  days.with.cr.line  revol.util  inq.last.6mths  delinq.2yrs  pub.rec\n",
      "  3   3  log.annual.inc  days.with.cr.line  revol.util  inq.last.6mths  delinq.2yrs  pub.rec\n",
      "  3   4  log.annual.inc  days.with.cr.line  revol.util  inq.last.6mths  delinq.2yrs  pub.rec\n",
      "  3   5  log.annual.inc  days.with.cr.line  revol.util  inq.last.6mths  delinq.2yrs  pub.rec\n",
      "  4   1  log.annual.inc  days.with.cr.line  revol.util  inq.last.6mths  delinq.2yrs  pub.rec\n",
      "  4   2  log.annual.inc  days.with.cr.line  revol.util  inq.last.6mths  delinq.2yrs  pub.rec\n",
      "  4   3  log.annual.inc  days.with.cr.line  revol.util  inq.last.6mths  delinq.2yrs  pub.rec\n",
      "  4   4  log.annual.inc  days.with.cr.line  revol.util  inq.last.6mths  delinq.2yrs  pub.rec\n",
      "  4   5  log.annual.inc  days.with.cr.line  revol.util  inq.last.6mths  delinq.2yrs  pub.rec\n",
      "  5   1  log.annual.inc  days.with.cr.line  revol.util  inq.last.6mths  delinq.2yrs  pub.rec\n",
      "  5   2  log.annual.inc  days.with.cr.line  revol.util  inq.last.6mths  delinq.2yrs  pub.rec\n",
      "  5   3  log.annual.inc  days.with.cr.line  revol.util  inq.last.6mths  delinq.2yrs  pub.rec\n",
      "  5   4  log.annual.inc  days.with.cr.line  revol.util  inq.last.6mths  delinq.2yrs  pub.rec\n",
      "  5   5  log.annual.inc  days.with.cr.line  revol.util  inq.last.6mths  delinq.2yrs  pub.rec\n"
     ]
    }
   ],
   "source": [
    "set.seed(144)\n",
    "\n",
    "# set vars.for.imputation to all variables in the data frame except for not.fully.paid, \n",
    "# to impute the values using all other independent variables\n",
    "vars.for.imputation = setdiff(names(loans), \"not.fully.paid\")\n",
    "\n",
    "imputed = complete(mice(loans[vars.for.imputation]))\n",
    "\n",
    "loans[vars.for.imputation] = imputed"
   ]
  },
  {
   "cell_type": "markdown",
   "metadata": {},
   "source": [
    "Credit-related data sets should exhibit multicollinearity among the variables based on the principles of modern finance. Low-risk credits (e.g., individuals with high FICO scores) should be assigned lower interest rates relative to high-risk credits (e.g., individuals with low credit scores). One would expect borrowers with low debt-to-income ratios to receive lower interest rates and use a lower percentage of their revolving credit facility than other borrowers."
   ]
  },
  {
   "cell_type": "markdown",
   "metadata": {},
   "source": [
    "The correlation plot below confirms our intuition regarding the aforementioned relationships. Furthermore, our plot highlights several other weaker relationships among the variables relative to individual fico scores. For example, one would expect inquiries from creditors over the last 6 months (inq.last.6mths) to be inversely related to the following variables: a borrower's fico score, delinquencies in the past two years (delinq.2yrs), and public records detailing adverse financial events like personal bankruptcies and tax liens.  "
   ]
  },
  {
   "cell_type": "code",
   "execution_count": 53,
   "metadata": {},
   "outputs": [
    {
     "data": {
      "image/png": "[encoded data removed]",
      "text/plain": [
       "Plot with title “”"
      ]
     },
     "metadata": {},
     "output_type": "display_data"
    }
   ],
   "source": [
    "options(repr.plot.width=8, repr.plot.height=4)\n",
    "corrplot(cor(loans[,3:13]))"
   ]
  },
  {
   "cell_type": "markdown",
   "metadata": {},
   "source": [
    "This study is concerned with predicting the probability with which an individual will not repay his/her loan. Before we start, it's worth noting that 16.01% of our portfolio is not yet fully paid. A percentage of these loans will be perfected, while the remainder will be written off. "
   ]
  },
  {
   "cell_type": "code",
   "execution_count": 54,
   "metadata": {},
   "outputs": [
    {
     "name": "stdout",
     "output_type": "stream",
     "text": [
      "16.01 % of loans are not fully paid."
     ]
    }
   ],
   "source": [
    "unpaid = round(mean(loans$not.fully.paid)*100,2)\n",
    "cat(paste(unpaid,\"% of loans are not fully paid.\"))"
   ]
  },
  {
   "cell_type": "markdown",
   "metadata": {},
   "source": [
    "### The Models ###"
   ]
  },
  {
   "cell_type": "markdown",
   "metadata": {},
   "source": [
    "#### Logistic Model 1: An Everything-But-The-Kitchen-Sink Approach ####"
   ]
  },
  {
   "cell_type": "markdown",
   "metadata": {},
   "source": [
    "We start by splitting our data set into training and testing portions and building a logistic model using all independent variables."
   ]
  },
  {
   "cell_type": "code",
   "execution_count": 55,
   "metadata": {},
   "outputs": [],
   "source": [
    "set.seed(144)\n",
    "\n",
    "spl = sample.split(loans$not.fully.paid, .70)\n",
    "train = subset(loans, spl==TRUE)\n",
    "test = subset(loans, spl==FALSE)"
   ]
  },
  {
   "cell_type": "code",
   "execution_count": 56,
   "metadata": {},
   "outputs": [],
   "source": [
    "logit1 = glm(not.fully.paid ~ ., data=train, family=binomial)"
   ]
  },
  {
   "cell_type": "markdown",
   "metadata": {},
   "source": [
    "The chart below presents the summary data for our model. Eight variables are statistically significant at the .001 level. Three predictors are significant at the .01 level."
   ]
  },
  {
   "cell_type": "code",
   "execution_count": 57,
   "metadata": {},
   "outputs": [
    {
     "data": {
      "text/plain": [
       "\n",
       "Call:\n",
       "glm(formula = not.fully.paid ~ ., family = binomial, data = train)\n",
       "\n",
       "Deviance Residuals: \n",
       "    Min       1Q   Median       3Q      Max  \n",
       "-2.2008  -0.6213  -0.4953  -0.3609   2.6389  \n",
       "\n",
       "Coefficients:\n",
       "                            Estimate Std. Error z value Pr(>|z|)    \n",
       "(Intercept)                9.250e+00  1.552e+00   5.959 2.54e-09 ***\n",
       "credit.policy             -3.417e-01  1.009e-01  -3.388 0.000704 ***\n",
       "purposecredit_card        -6.124e-01  1.344e-01  -4.557 5.18e-06 ***\n",
       "purposedebt_consolidation -3.199e-01  9.179e-02  -3.485 0.000493 ***\n",
       "purposeeducational         1.351e-01  1.753e-01   0.771 0.440814    \n",
       "purposehome_improvement    1.728e-01  1.479e-01   1.168 0.242901    \n",
       "purposemajor_purchase     -4.828e-01  2.008e-01  -2.404 0.016215 *  \n",
       "purposesmall_business      4.123e-01  1.418e-01   2.907 0.003653 ** \n",
       "int.rate                   6.434e-01  2.085e+00   0.309 0.757592    \n",
       "installment                1.274e-03  2.092e-04   6.091 1.12e-09 ***\n",
       "log.annual.inc            -4.328e-01  7.145e-02  -6.058 1.38e-09 ***\n",
       "dti                        4.781e-03  5.499e-03   0.869 0.384626    \n",
       "fico                      -9.408e-03  1.706e-03  -5.513 3.53e-08 ***\n",
       "days.with.cr.line          2.967e-06  1.586e-05   0.187 0.851551    \n",
       "revol.bal                  3.082e-06  1.167e-06   2.641 0.008276 ** \n",
       "revol.util                 1.632e-03  1.531e-03   1.066 0.286415    \n",
       "inq.last.6mths             8.227e-02  1.594e-02   5.160 2.48e-07 ***\n",
       "delinq.2yrs               -8.334e-02  6.551e-02  -1.272 0.203280    \n",
       "pub.rec                    3.299e-01  1.138e-01   2.899 0.003740 ** \n",
       "---\n",
       "Signif. codes:  0 ‘***’ 0.001 ‘**’ 0.01 ‘*’ 0.05 ‘.’ 0.1 ‘ ’ 1\n",
       "\n",
       "(Dispersion parameter for binomial family taken to be 1)\n",
       "\n",
       "    Null deviance: 5896.6  on 6704  degrees of freedom\n",
       "Residual deviance: 5486.9  on 6686  degrees of freedom\n",
       "AIC: 5524.9\n",
       "\n",
       "Number of Fisher Scoring iterations: 5\n"
      ]
     },
     "metadata": {},
     "output_type": "display_data"
    }
   ],
   "source": [
    "summary(logit1)"
   ]
  },
  {
   "cell_type": "markdown",
   "metadata": {},
   "source": [
    "The following example will clarify how this model might be used. Assume we have two loan applicants: Alice and Bob. Alice has a FICO score of 700, while Bob has a FICO score of 710. Their applications are the same in all other respects. \n",
    "\n",
    "Alice is a riskier credit than Bob, so the odds of Alice **not** fully repaying her loan should be higher, but by how much?"
   ]
  },
  {
   "cell_type": "markdown",
   "metadata": {},
   "source": [
    "We begin answering this question by computing the log odds derived from the differential between the two FICO scores multiplied by the coefficient attending the fico variable."
   ]
  },
  {
   "cell_type": "code",
   "execution_count": 58,
   "metadata": {},
   "outputs": [
    {
     "data": {
      "text/html": [
       "0.09408"
      ],
      "text/latex": [
       "0.09408"
      ],
      "text/markdown": [
       "0.09408"
      ],
      "text/plain": [
       "[1] 0.09408"
      ]
     },
     "metadata": {},
     "output_type": "display_data"
    }
   ],
   "source": [
    "-9.408e-03*(700-710)"
   ]
  },
  {
   "cell_type": "markdown",
   "metadata": {},
   "source": [
    "Exponentiating this result tells us that Alice is approximately 1.099 times more likely to default than Bob. "
   ]
  },
  {
   "cell_type": "code",
   "execution_count": 59,
   "metadata": {},
   "outputs": [
    {
     "data": {
      "text/html": [
       "1.099"
      ],
      "text/latex": [
       "1.099"
      ],
      "text/markdown": [
       "1.099"
      ],
      "text/plain": [
       "[1] 1.099"
      ]
     },
     "metadata": {},
     "output_type": "display_data"
    }
   ],
   "source": [
    "round(exp(0.09408),3)"
   ]
  },
  {
   "cell_type": "markdown",
   "metadata": {},
   "source": [
    "#### Out-Of-Sample-Testing ####"
   ]
  },
  {
   "cell_type": "markdown",
   "metadata": {},
   "source": [
    "Our model provided an interesting result. Performance on out-of-sample data, however, will determine whether or not the model is actually worth anything."
   ]
  },
  {
   "cell_type": "code",
   "execution_count": 60,
   "metadata": {},
   "outputs": [],
   "source": [
    "logit_pred = predict(logit1, newdata=test, type=\"response\")"
   ]
  },
  {
   "cell_type": "code",
   "execution_count": 61,
   "metadata": {},
   "outputs": [],
   "source": [
    "test$pred_risk = logit_pred"
   ]
  },
  {
   "cell_type": "markdown",
   "metadata": {},
   "source": [
    "When assessing the merit of a logistic model, our first approach is to construct a confusion matrix from which model accuracy can be derived. Below we present the helper function we use to construct the matrix followed by our accuracy calculation function and its return value. "
   ]
  },
  {
   "cell_type": "code",
   "execution_count": 62,
   "metadata": {},
   "outputs": [],
   "source": [
    "confusion_mtx = function(df, observed_y, predicted_y, threshold) {\n",
    "    \n",
    "    # Input: dataframe, response variable name as string, vector of \n",
    "    # predicted values as variable, threshold value as float\n",
    "    # \n",
    "    # Output: Confusion matrix to assess model performance\n",
    "    \n",
    "    cmtx=table(df[[observed_y]], predicted_y > threshold)\n",
    "    return (cmtx)\n",
    "}"
   ]
  },
  {
   "cell_type": "code",
   "execution_count": 63,
   "metadata": {},
   "outputs": [
    {
     "data": {
      "text/html": [
       "<table>\n",
       "<caption>A table: 3 × 3 of type dbl</caption>\n",
       "<thead>\n",
       "\t<tr><th></th><th scope=col>FALSE</th><th scope=col>TRUE</th><th scope=col>Sum</th></tr>\n",
       "</thead>\n",
       "<tbody>\n",
       "\t<tr><th scope=row>0</th><td>2400</td><td>13</td><td>2413</td></tr>\n",
       "\t<tr><th scope=row>1</th><td> 457</td><td> 3</td><td> 460</td></tr>\n",
       "\t<tr><th scope=row>Sum</th><td>2857</td><td>16</td><td>2873</td></tr>\n",
       "</tbody>\n",
       "</table>\n"
      ],
      "text/latex": [
       "A table: 3 × 3 of type dbl\n",
       "\\begin{tabular}{r|lll}\n",
       "  & FALSE & TRUE & Sum\\\\\n",
       "\\hline\n",
       "\t0 & 2400 & 13 & 2413\\\\\n",
       "\t1 &  457 &  3 &  460\\\\\n",
       "\tSum & 2857 & 16 & 2873\\\\\n",
       "\\end{tabular}\n"
      ],
      "text/markdown": [
       "\n",
       "A table: 3 × 3 of type dbl\n",
       "\n",
       "| <!--/--> | FALSE | TRUE | Sum |\n",
       "|---|---|---|---|\n",
       "| 0 | 2400 | 13 | 2413 |\n",
       "| 1 |  457 |  3 |  460 |\n",
       "| Sum | 2857 | 16 | 2873 |\n",
       "\n"
      ],
      "text/plain": [
       "     \n",
       "      FALSE TRUE Sum \n",
       "  0   2400  13   2413\n",
       "  1    457   3    460\n",
       "  Sum 2857  16   2873"
      ]
     },
     "metadata": {},
     "output_type": "display_data"
    }
   ],
   "source": [
    "cmtx=confusion_mtx(test, \"not.fully.paid\", logit_pred, .5)\n",
    "addmargins(cmtx)"
   ]
  },
  {
   "cell_type": "code",
   "execution_count": 64,
   "metadata": {},
   "outputs": [
    {
     "name": "stdout",
     "output_type": "stream",
     "text": [
      "Based on the confusion matrix, the out-of-sample accuracy of our model is 83.64%."
     ]
    }
   ],
   "source": [
    "confusion_accuracy = function(confusion_matrix) {\n",
    "    \n",
    "    # Input: confusion matrix\n",
    "    #\n",
    "    # Output: Message stating the accuracy of the model based on the data\n",
    "    # contained in the matrix.\n",
    "    \n",
    "    accuracy = sum(diag(prop.table(confusion_matrix)))\n",
    "\n",
    "    return (cat(paste(\"Based on the confusion matrix, the out-of-sample accuracy of our model is \", round(accuracy,4)*100, \"%.\", sep=\"\")))\n",
    "}\n",
    "\n",
    "confusion_accuracy(cmtx)"
   ]
  },
  {
   "cell_type": "markdown",
   "metadata": {},
   "source": [
    "Accuracy tests based on confusion matrices are meaningless without a baseline to which we can compare the results. Our baseline prediction is the most frequent binary outcome in the response vector for our test set. In our test data set, the most frequent outcome is 0."
   ]
  },
  {
   "cell_type": "code",
   "execution_count": 65,
   "metadata": {},
   "outputs": [
    {
     "name": "stdout",
     "output_type": "stream",
     "text": [
      "Our baseline model has an accuracy of 83.99%."
     ]
    }
   ],
   "source": [
    "cat(paste(\"Our baseline model has an accuracy of \", round(prop.table(table(test$not.fully.paid)),4)[[1]]*100, \"%.\", sep=\"\"))"
   ]
  },
  {
   "cell_type": "markdown",
   "metadata": {},
   "source": [
    "The difference between our model's accuracy and that of the baseline is disappointing (83.99% vs 83.64%). We now find ourselves asking whether or not anything can be salvaged. "
   ]
  },
  {
   "cell_type": "markdown",
   "metadata": {},
   "source": [
    "#### The ROC Curve ####"
   ]
  },
  {
   "cell_type": "markdown",
   "metadata": {},
   "source": [
    "We'll consult the Receiver Operator Characteristic Curve (ROC) to assess model performance further. "
   ]
  },
  {
   "cell_type": "markdown",
   "metadata": {},
   "source": [
    "Below, we calculate the area under the curve (AUC) for the model. It seems that the model does better than the AUC benchmark of .5, which is indicative of a random process akin to a coin toss, coming in at .6721. This is a very good result and indicates we should, in fact, keep our model. But why, when the confusion matrix returned a substandard outcome? \n",
    "\n",
    "Confusion matrices evaluate models at single thresholds supplied by the analyst. There is absolutely nothing wrong with this approach, and we will begin with it where appropriate. The area under the ROC evaluates a model at *all possible* thresholds and, thus, represents a more comprehensive evaluation of model accuracy. The benchmark in this case is .5, a coin toss, representing a purely random process."
   ]
  },
  {
   "cell_type": "code",
   "execution_count": 66,
   "metadata": {},
   "outputs": [
    {
     "name": "stdout",
     "output_type": "stream",
     "text": [
      "0.6721"
     ]
    }
   ],
   "source": [
    "pred = prediction(test$pred_risk, test$not.fully.paid)\n",
    "cat(paste(round(as.numeric(performance(pred, \"auc\")@y.values), 4)))"
   ]
  },
  {
   "cell_type": "markdown",
   "metadata": {},
   "source": [
    "#### Logistic Model 2: A Smart Baseline ####"
   ]
  },
  {
   "cell_type": "markdown",
   "metadata": {},
   "source": [
    "Interest rates capture the risk associated with repayment. Though it was not statistically significant in the first model, this was likely due to multicollinearity depicted in our correlation plot. Here, we construct a bivariate model using only interest rates to predict the probability of repayment for two reasons: First, interest rates are intended to capture many of the other relationships extant among the variables in our data set. Second, an alternate baseline model provides another benchmark against which one can judge a model."
   ]
  },
  {
   "cell_type": "code",
   "execution_count": 67,
   "metadata": {},
   "outputs": [],
   "source": [
    "logit2 = glm(not.fully.paid ~ int.rate, data=train, family=binomial)"
   ]
  },
  {
   "cell_type": "markdown",
   "metadata": {},
   "source": [
    "As expected, exclusion of collinear variables from the model reveals that interest rate is a highly significant predictor of loan default. Comparison of AIC scores between logit1 and logit2, however, reveals that logit2 is an inferior model."
   ]
  },
  {
   "cell_type": "code",
   "execution_count": 68,
   "metadata": {},
   "outputs": [
    {
     "data": {
      "text/plain": [
       "\n",
       "Call:\n",
       "glm(formula = not.fully.paid ~ int.rate, family = binomial, data = train)\n",
       "\n",
       "Deviance Residuals: \n",
       "    Min       1Q   Median       3Q      Max  \n",
       "-1.0547  -0.6271  -0.5442  -0.4361   2.2914  \n",
       "\n",
       "Coefficients:\n",
       "            Estimate Std. Error z value Pr(>|z|)    \n",
       "(Intercept)  -3.6726     0.1688  -21.76   <2e-16 ***\n",
       "int.rate     15.9214     1.2702   12.54   <2e-16 ***\n",
       "---\n",
       "Signif. codes:  0 ‘***’ 0.001 ‘**’ 0.01 ‘*’ 0.05 ‘.’ 0.1 ‘ ’ 1\n",
       "\n",
       "(Dispersion parameter for binomial family taken to be 1)\n",
       "\n",
       "    Null deviance: 5896.6  on 6704  degrees of freedom\n",
       "Residual deviance: 5734.8  on 6703  degrees of freedom\n",
       "AIC: 5738.8\n",
       "\n",
       "Number of Fisher Scoring iterations: 4\n"
      ]
     },
     "metadata": {},
     "output_type": "display_data"
    }
   ],
   "source": [
    "summary(logit2)"
   ]
  },
  {
   "cell_type": "code",
   "execution_count": 69,
   "metadata": {},
   "outputs": [],
   "source": [
    "logit2_pred = predict(logit2, newdata=test, type=\"response\")"
   ]
  },
  {
   "cell_type": "markdown",
   "metadata": {},
   "source": [
    "Summary data for predicted values from the model over the test set, presented below, indicate the maximum probability of default is 42.66%. Using a 50% threshold, this implies absolutely no loans will be flagged as \"not.fully.paid.\" This implies a confusion matrix accuracy identical to that of our logit1 model. "
   ]
  },
  {
   "cell_type": "code",
   "execution_count": 70,
   "metadata": {},
   "outputs": [
    {
     "data": {
      "text/plain": [
       "   Min. 1st Qu.  Median    Mean 3rd Qu.    Max. \n",
       "0.06196 0.11549 0.15077 0.15963 0.18928 0.42662 "
      ]
     },
     "metadata": {},
     "output_type": "display_data"
    }
   ],
   "source": [
    "summary(logit2_pred)"
   ]
  },
  {
   "cell_type": "markdown",
   "metadata": {},
   "source": [
    "Below is the AUC calculation for logit2. "
   ]
  },
  {
   "cell_type": "code",
   "execution_count": 71,
   "metadata": {},
   "outputs": [
    {
     "name": "stdout",
     "output_type": "stream",
     "text": [
      "0.6239"
     ]
    }
   ],
   "source": [
    "pred2 = prediction(logit2_pred, test$not.fully.paid)\n",
    "cat(paste(round(as.numeric(performance(pred2, \"auc\")@y.values), 4)))"
   ]
  },
  {
   "cell_type": "markdown",
   "metadata": {},
   "source": [
    "The AUC for logit1 surpasses that of logit2.  On this score, we are doing comparatively better and should stick with the model we have, rather than changing course. "
   ]
  },
  {
   "cell_type": "markdown",
   "metadata": {},
   "source": [
    "### A Simplified, Risk-Based Investment Scenario ###"
   ]
  },
  {
   "cell_type": "markdown",
   "metadata": {},
   "source": [
    "Assume the following for every investment $I$: interest compunds continuously according to the formula $I\\cdot\\text{e}^{rt}$, each has a three-year investment term, and the lender experiences a total loss if the loan is not paid in full. Below, we calculate the maximum expected profit of a $10 investment in our test set loan portfolio."
   ]
  },
  {
   "cell_type": "code",
   "execution_count": 72,
   "metadata": {},
   "outputs": [],
   "source": [
    "test$profit = exp(test$int.rate*3) - 1\n",
    "\n",
    "test$profit[test$not.fully.paid == 1] = -1"
   ]
  },
  {
   "cell_type": "code",
   "execution_count": 87,
   "metadata": {},
   "outputs": [
    {
     "name": "stdout",
     "output_type": "stream",
     "text": [
      "The max profit for any loan in our test set under the assumptions outlined above is $8.89."
     ]
    }
   ],
   "source": [
    "cat(paste(\"The max profit for any loan in our test set under the assumptions outlined above is $\", round(max(test$profit)*10,2),\".\", sep=\"\"))"
   ]
  },
  {
   "cell_type": "markdown",
   "metadata": {},
   "source": [
    "We wish to invest in the highest yielding loans that have the lowest risk of default. In this section, we do just that."
   ]
  },
  {
   "cell_type": "code",
   "execution_count": 74,
   "metadata": {},
   "outputs": [],
   "source": [
    "high_yield = subset(test, test$int.rate >=.15)"
   ]
  },
  {
   "cell_type": "code",
   "execution_count": 75,
   "metadata": {},
   "outputs": [
    {
     "name": "stdout",
     "output_type": "stream",
     "text": [
      "The mean profit of a $1 investment in a high-yield loan (int. rate >= 15%) in our test set is0.2251."
     ]
    }
   ],
   "source": [
    "cat(paste(\"The mean profit of a $1 investment in a high-yield loan (int. rate >= 15%) in our test set is\", round(mean(high_yield$profit),4),\".\", sep=\"\"))"
   ]
  },
  {
   "cell_type": "code",
   "execution_count": 76,
   "metadata": {},
   "outputs": [
    {
     "name": "stdout",
     "output_type": "stream",
     "text": [
      "The number of high-yield loans (int. rate >= 15%) not fully repaid in our subset is 110."
     ]
    }
   ],
   "source": [
    "cat(paste(\"The number of high-yield loans (int. rate >= 15%) not fully repaid in our subset is \", round(table(high_yield$not.fully.paid)[[2]],2), \".\", sep=\"\"))"
   ]
  },
  {
   "cell_type": "markdown",
   "metadata": {},
   "source": [
    "We will refine our high-yield portfolio further by setting a cutoff for the maximum predicted risk for loans contained therein. Additionally, we'll limit the size of our portfolio to 100 investments by determining the 100th smallest predicted probability of not paying in full by sorting the predicted risks in increasing order and selecting the 100th element of this sorted list. **Note, this is where risk predictions from our best model, Logistic1, come into play.** "
   ]
  },
  {
   "cell_type": "markdown",
   "metadata": {},
   "source": [
    "The maximum predicted risk we are willing to accept is approximately .1771."
   ]
  },
  {
   "cell_type": "code",
   "execution_count": 77,
   "metadata": {},
   "outputs": [
    {
     "data": {
      "text/html": [
       "0.1771"
      ],
      "text/latex": [
       "0.1771"
      ],
      "text/markdown": [
       "0.1771"
      ],
      "text/plain": [
       "[1] 0.1771"
      ]
     },
     "metadata": {},
     "output_type": "display_data"
    }
   ],
   "source": [
    "cutoff = sort(high_yield$pred_risk, decreasing=FALSE)[100]\n",
    "round(cutoff,4)"
   ]
  },
  {
   "cell_type": "markdown",
   "metadata": {},
   "source": [
    "As expected, there are 100 loans in the revised high-yield portfolio, 19 of which are flagged for default. "
   ]
  },
  {
   "cell_type": "code",
   "execution_count": 88,
   "metadata": {},
   "outputs": [
    {
     "data": {
      "text/plain": [
       "\n",
       " 0  1 \n",
       "81 19 "
      ]
     },
     "metadata": {},
     "output_type": "display_data"
    }
   ],
   "source": [
    "high_yield2 = subset(high_yield, pred_risk <= cutoff)\n",
    "table(high_yield2$not.fully.paid)"
   ]
  },
  {
   "cell_type": "code",
   "execution_count": 79,
   "metadata": {},
   "outputs": [
    {
     "name": "stdout",
     "output_type": "stream",
     "text": [
      "The profit from a $1 investment in every loan in our refined high-yield portfolio is         $31.28."
     ]
    }
   ],
   "source": [
    "cat(paste(\"The profit from a $1 investment in every loan in our refined high-yield portfolio is         $\", round(sum(high_yield2$profit),2),\".\", sep=\"\"))"
   ]
  },
  {
   "cell_type": "markdown",
   "metadata": {},
   "source": [
    "**To recap what happened here**: We calculated the maximum expected profit for the loans in our portfolio under a set of strict assumptions. Next, we identified a subset of our loan portfolio as high-yield (interest rate > 15%). We then decreased the size of this high-yield portfolio to only 100 loans by determining the 100th smallest predicted probability of default. These probabilities were produced by our first model. This strategy allowed us to maximize our return on our investment portfolio, given our subjective risk preferences as expressed in loan default probabilities."
   ]
  },
  {
   "cell_type": "markdown",
   "metadata": {},
   "source": [
    "### Beyond the Assignment: Can we do better? ###"
   ]
  },
  {
   "cell_type": "markdown",
   "metadata": {},
   "source": [
    "We demonstrated that logit1 is a useful model, but it lacks parsimony. This raises the question: Can we do better?"
   ]
  },
  {
   "cell_type": "markdown",
   "metadata": {},
   "source": [
    "Our lowest AIC was achieved with the model below."
   ]
  },
  {
   "cell_type": "code",
   "execution_count": 80,
   "metadata": {},
   "outputs": [],
   "source": [
    "logitx = glm(not.fully.paid ~ . -int.rate -dti -days.with.cr.line -revol.util, data=train, family=binomial)"
   ]
  },
  {
   "cell_type": "code",
   "execution_count": 81,
   "metadata": {},
   "outputs": [
    {
     "data": {
      "text/plain": [
       "\n",
       "Call:\n",
       "glm(formula = not.fully.paid ~ . - int.rate - dti - days.with.cr.line - \n",
       "    revol.util, family = binomial, data = train)\n",
       "\n",
       "Deviance Residuals: \n",
       "    Min       1Q   Median       3Q      Max  \n",
       "-2.3525  -0.6195  -0.4962  -0.3626   2.6328  \n",
       "\n",
       "Coefficients:\n",
       "                            Estimate Std. Error z value Pr(>|z|)    \n",
       "(Intercept)                1.025e+01  1.040e+00   9.855  < 2e-16 ***\n",
       "credit.policy             -3.301e-01  1.004e-01  -3.287  0.00101 ** \n",
       "purposecredit_card        -5.888e-01  1.332e-01  -4.419 9.92e-06 ***\n",
       "purposedebt_consolidation -2.941e-01  9.015e-02  -3.262  0.00110 ** \n",
       "purposeeducational         1.301e-01  1.752e-01   0.742  0.45794    \n",
       "purposehome_improvement    1.690e-01  1.476e-01   1.145  0.25200    \n",
       "purposemajor_purchase     -4.931e-01  2.007e-01  -2.457  0.01402 *  \n",
       "purposesmall_business      4.180e-01  1.381e-01   3.026  0.00248 ** \n",
       "installment                1.308e-03  1.912e-04   6.840 7.94e-12 ***\n",
       "log.annual.inc            -4.292e-01  6.923e-02  -6.199 5.67e-10 ***\n",
       "fico                      -1.059e-02  1.126e-03  -9.410  < 2e-16 ***\n",
       "revol.bal                  3.589e-06  1.120e-06   3.204  0.00136 ** \n",
       "inq.last.6mths             8.148e-02  1.585e-02   5.140 2.74e-07 ***\n",
       "delinq.2yrs               -9.768e-02  6.291e-02  -1.553  0.12051    \n",
       "pub.rec                    3.301e-01  1.127e-01   2.928  0.00341 ** \n",
       "---\n",
       "Signif. codes:  0 ‘***’ 0.001 ‘**’ 0.01 ‘*’ 0.05 ‘.’ 0.1 ‘ ’ 1\n",
       "\n",
       "(Dispersion parameter for binomial family taken to be 1)\n",
       "\n",
       "    Null deviance: 5896.6  on 6704  degrees of freedom\n",
       "Residual deviance: 5489.6  on 6690  degrees of freedom\n",
       "AIC: 5519.6\n",
       "\n",
       "Number of Fisher Scoring iterations: 5\n"
      ]
     },
     "metadata": {},
     "output_type": "display_data"
    }
   ],
   "source": [
    "summary(logitx)"
   ]
  },
  {
   "cell_type": "code",
   "execution_count": 82,
   "metadata": {},
   "outputs": [],
   "source": [
    "logitx_pred = predict(logitx, newdata=test, type=\"response\")"
   ]
  },
  {
   "cell_type": "code",
   "execution_count": 83,
   "metadata": {},
   "outputs": [],
   "source": [
    "test$predx_risk = logitx_pred"
   ]
  },
  {
   "cell_type": "code",
   "execution_count": 84,
   "metadata": {},
   "outputs": [],
   "source": [
    "cmtx=confusion_mtx(test, \"not.fully.paid\", logitx_pred, .5)"
   ]
  },
  {
   "cell_type": "markdown",
   "metadata": {},
   "source": [
    "Recall that our baseline model had an accuracy of 83.99%, while logit1 had an accuracy of 83.64%. We see that nothing has change along this dimension.  While it's not as thrilling as seeing an improvement, we did eliminate four variables and did not suffer a deterioration in accuracy. This is positive news. "
   ]
  },
  {
   "cell_type": "code",
   "execution_count": 85,
   "metadata": {},
   "outputs": [
    {
     "name": "stdout",
     "output_type": "stream",
     "text": [
      "Based on the confusion matrix, the out-of-sample accuracy of our model is 83.64%."
     ]
    }
   ],
   "source": [
    "confusion_accuracy(cmtx)"
   ]
  },
  {
   "cell_type": "markdown",
   "metadata": {},
   "source": [
    "Our AUC score declined by a mere .0021. This is a small price to pay for a model with higher AIC that is free of statistically insignificant, and otherwise multicollinear, variables. "
   ]
  },
  {
   "cell_type": "code",
   "execution_count": 86,
   "metadata": {},
   "outputs": [
    {
     "name": "stdout",
     "output_type": "stream",
     "text": [
      "0.6718"
     ]
    }
   ],
   "source": [
    "pred = prediction(test$predx_risk, test$not.fully.paid)\n",
    "cat(paste(round(as.numeric(performance(pred, \"auc\")@y.values), 4)))"
   ]
  },
  {
   "cell_type": "markdown",
   "metadata": {},
   "source": [
    "As to whether or not we can do better than our logit1 model, the answer is \"yes.\" Though we cannot improve its accuracy with the current data set, we can greatly improve its parsimony and quality (as measured by its AIC score) by eliminating superfluous variables, along with those responsible for the lion's share of multicollinearity."
   ]
  }
 ],
 "metadata": {
  "kernelspec": {
   "display_name": "R",
   "language": "R",
   "name": "ir"
  },
  "language_info": {
   "codemirror_mode": "r",
   "file_extension": ".r",
   "mimetype": "text/x-r-source",
   "name": "R",
   "pygments_lexer": "r",
   "version": "3.6.0"
  }
 },
 "nbformat": 4,
 "nbformat_minor": 2
}
