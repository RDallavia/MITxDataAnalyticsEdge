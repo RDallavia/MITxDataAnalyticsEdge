{
 "cells": [
  {
   "cell_type": "markdown",
   "metadata": {},
   "source": [
    "# Predicting Song Popularity#"
   ]
  },
  {
   "cell_type": "markdown",
   "metadata": {},
   "source": [
    "## Key Takeaways ##\n",
    "\n",
    "- **A logistic model with a threshold of .45 provides an excellent predictive framework for forecasting whether or not a song will be a Top10 hit.**\n",
    "\n",
    "\n",
    "- **Multicollinearity can filp coefficient signs and confound results, if not dealt with by removing the variable least likely to explain the underlying phenomenon.**\n",
    "\n",
    "\n",
    "- **Assessment of model performance must extend beyond accuracy in excess of a baseline model and incorporate an evaluation of both the sensitivity and specificity of the model with respect to the users' objectives.**"
   ]
  },
  {
   "cell_type": "markdown",
   "metadata": {},
   "source": [
    "### Background Information ###"
   ]
  },
  {
   "cell_type": "markdown",
   "metadata": {},
   "source": [
    "\"The music industry has a well-developed market with a global annual revenue around $15 billion. The recording industry is highly competitive and is dominated by three big production companies which make up nearly 82% of the total annual album sales.\n",
    "\n",
    "Artists are at the core of the music industry and record labels provide them with the necessary resources to sell their music on a large scale. A record label incurs numerous costs (studio recording, marketing, distribution, and touring) in exchange for a percentage of the profits from album sales, singles and concert tickets.\n",
    "\n",
    "Unfortunately, the success of an artist's release is highly uncertain: a single may be extremely popular, resulting in widespread radio play and digital downloads, while another single may turn out quite unpopular, and therefore unprofitable.\n",
    "\n",
    "Knowing the competitive nature of the recording industry, record labels face the fundamental decision problem of which musical releases to support to maximize their financial success.\"\n",
    "\n",
    "(source: MITx)"
   ]
  },
  {
   "cell_type": "markdown",
   "metadata": {},
   "source": [
    "### The Problem ###"
   ]
  },
  {
   "cell_type": "markdown",
   "metadata": {},
   "source": [
    "Can data analytics predict the popularity of a song? Here, we endeavor to predict whether a song will garner a top 10 spot on the Billboard Hot 100 Chart."
   ]
  },
  {
   "cell_type": "markdown",
   "metadata": {},
   "source": [
    "### The Data ###"
   ]
  },
  {
   "cell_type": "markdown",
   "metadata": {},
   "source": [
    "Our dataset consists of 1) all songs that made it into the top 10 of the Billboard Hot 100 from 1990-2010 and 2) a sampling of songs that failed to do so. The data were culled from three sources: Wikipedia, Billboard.com, and EchoNest.\n",
    "\n",
    "We will predict song popularity as a function of its properties. The variables included in the dataset either describe the artist or the song. The specific variables are as follows:\n",
    "\n",
    "**year**: the year the song was released\n",
    "\n",
    "**songtitle**: the title of the song\n",
    "\n",
    "**artistname**: the name of the artist of the song\n",
    "\n",
    "**songID and artistID**: identifying variables for the song and artist\n",
    "\n",
    "**timesignature and timesignature_confidence**: a variable estimating the time signature of the song, and the confidence in the estimate\n",
    "\n",
    "**loudness**: a continuous variable indicating the average amplitude of the audio in decibels\n",
    "\n",
    "**tempo and tempo_confidence**: a variable indicating the estimated beats per minute of the song, and the confidence in the estimate\n",
    "\n",
    "**key and key_confidence**: a variable with twelve levels indicating the estimated key of the song (C, C#, . . ., B), and the confidence in the estimate\n",
    "\n",
    "**energy**: a variable that represents the overall acoustic energy of the song, using a mix of features such as loudness\n",
    "\n",
    "**pitch**: a continuous variable that indicates the pitch of the song\n",
    "\n",
    "**timbre_0_min, timbre_0_max, timbre_1_min, timbre_1_max, . . . , timbre_11_min, and timbre_11_max**: variables that indicate the minimum/maximum values over all segments for each of the twelve values in the timbre vector (resulting in 24 continuous variables)\n",
    "\n",
    "**Top10**: a binary variable indicating whether or not the song made it to the Top 10 of the Billboard Hot 100 Chart (1 if it was in the top 10, and 0 if it was not)\n",
    "\n",
    "(source: MITx)"
   ]
  },
  {
   "cell_type": "code",
   "execution_count": 1,
   "metadata": {},
   "outputs": [
    {
     "name": "stderr",
     "output_type": "stream",
     "text": [
      "Updating HTML index of packages in '.Library'\n",
      "Making 'packages.html' ... done\n",
      "Updating HTML index of packages in '.Library'\n",
      "Making 'packages.html' ... done\n",
      "Updating HTML index of packages in '.Library'\n",
      "Making 'packages.html' ... done\n",
      "Updating HTML index of packages in '.Library'\n",
      "Making 'packages.html' ... done\n",
      "Updating HTML index of packages in '.Library'\n",
      "Making 'packages.html' ... done\n",
      "Updating HTML index of packages in '.Library'\n",
      "Making 'packages.html' ... done\n",
      "Updating HTML index of packages in '.Library'\n",
      "Making 'packages.html' ... done\n",
      "Registered S3 method overwritten by 'rvest':\n",
      "  method            from\n",
      "  read_xml.response xml2\n",
      "── Attaching packages ─────────────────────────────────────── tidyverse 1.2.1 ──\n",
      "✔ ggplot2 3.2.1     ✔ purrr   0.3.2\n",
      "✔ tibble  2.1.1     ✔ dplyr   0.8.3\n",
      "✔ tidyr   0.8.3     ✔ stringr 1.4.0\n",
      "✔ readr   1.3.1     ✔ forcats 0.4.0\n",
      "── Conflicts ────────────────────────────────────────── tidyverse_conflicts() ──\n",
      "✖ dplyr::filter() masks stats::filter()\n",
      "✖ dplyr::lag()    masks stats::lag()\n",
      "corrplot 0.84 loaded\n",
      "Loading required package: gplots\n",
      "Warning message:\n",
      "“package ‘gplots’ was built under R version 3.6.1”\n",
      "Attaching package: ‘gplots’\n",
      "\n",
      "The following object is masked from ‘package:stats’:\n",
      "\n",
      "    lowess\n",
      "\n",
      "\n",
      "Attaching package: ‘data.table’\n",
      "\n",
      "The following objects are masked from ‘package:dplyr’:\n",
      "\n",
      "    between, first, last\n",
      "\n",
      "The following object is masked from ‘package:purrr’:\n",
      "\n",
      "    transpose\n",
      "\n"
     ]
    }
   ],
   "source": [
    "install.packages(\"ggplot2\")\n",
    "install.packages(\"corrplot\")\n",
    "install.packages(\"tidyverse\")\n",
    "install.packages(\"caTools\")\n",
    "install.packages(\"ROCR\")\n",
    "install.packages(\"data.table\")\n",
    "install.packages(\"wesanderson\")\n",
    "library(caTools)\n",
    "library(wesanderson)\n",
    "library(tidyverse)\n",
    "library(corrplot)\n",
    "library(ggplot2)\n",
    "library(ROCR)\n",
    "library(data.table)"
   ]
  },
  {
   "cell_type": "code",
   "execution_count": 2,
   "metadata": {},
   "outputs": [],
   "source": [
    "songs = read.csv('songs.csv')"
   ]
  },
  {
   "cell_type": "markdown",
   "metadata": {},
   "source": [
    "### Data Structure ###"
   ]
  },
  {
   "cell_type": "code",
   "execution_count": 3,
   "metadata": {},
   "outputs": [
    {
     "name": "stdout",
     "output_type": "stream",
     "text": [
      "'data.frame':\t7574 obs. of  39 variables:\n",
      " $ year                    : int  2010 2010 2010 2010 2010 2010 2010 2010 2010 2010 ...\n",
      " $ songtitle               : Factor w/ 7141 levels \"̈́ l'or_e des bois\",..: 6204 5522 241 3115 48 608 255 4419 2886 6756 ...\n",
      " $ artistname              : Factor w/ 1032 levels \"50 Cent\",\"98 Degrees\",..: 3 3 3 3 3 3 3 3 3 12 ...\n",
      " $ songID                  : Factor w/ 7549 levels \"SOAACNI1315CD4AC42\",..: 595 5439 5252 1716 3431 1020 1831 3964 6904 2473 ...\n",
      " $ artistID                : Factor w/ 1047 levels \"AR00B1I1187FB433EB\",..: 671 671 671 671 671 671 671 671 671 507 ...\n",
      " $ timesignature           : int  3 4 4 4 4 4 4 4 4 4 ...\n",
      " $ timesignature_confidence: num  0.853 1 1 1 0.788 1 0.968 0.861 0.622 0.938 ...\n",
      " $ loudness                : num  -4.26 -4.05 -3.57 -3.81 -4.71 ...\n",
      " $ tempo                   : num  91.5 140 160.5 97.5 140.1 ...\n",
      " $ tempo_confidence        : num  0.953 0.921 0.489 0.794 0.286 0.347 0.273 0.83 0.018 0.929 ...\n",
      " $ key                     : int  11 10 2 1 6 4 10 5 9 11 ...\n",
      " $ key_confidence          : num  0.453 0.469 0.209 0.632 0.483 0.627 0.715 0.423 0.751 0.602 ...\n",
      " $ energy                  : num  0.967 0.985 0.99 0.939 0.988 ...\n",
      " $ pitch                   : num  0.024 0.025 0.026 0.013 0.063 0.038 0.026 0.033 0.027 0.004 ...\n",
      " $ timbre_0_min            : num  0.002 0 0.003 0 0 ...\n",
      " $ timbre_0_max            : num  57.3 57.4 57.4 57.8 56.9 ...\n",
      " $ timbre_1_min            : num  -6.5 -37.4 -17.2 -32.1 -223.9 ...\n",
      " $ timbre_1_max            : num  171 171 171 221 171 ...\n",
      " $ timbre_2_min            : num  -81.7 -149.6 -72.9 -138.6 -147.2 ...\n",
      " $ timbre_2_max            : num  95.1 180.3 157.9 173.4 166 ...\n",
      " $ timbre_3_min            : num  -285 -380.1 -204 -73.5 -128.1 ...\n",
      " $ timbre_3_max            : num  259 384 251 373 389 ...\n",
      " $ timbre_4_min            : num  -40.4 -48.7 -66 -55.6 -43.9 ...\n",
      " $ timbre_4_max            : num  73.6 100.4 152.1 119.2 99.3 ...\n",
      " $ timbre_5_min            : num  -104.7 -87.3 -98.7 -77.5 -96.1 ...\n",
      " $ timbre_5_max            : num  183.1 42.8 141.4 141.2 38.3 ...\n",
      " $ timbre_6_min            : num  -88.8 -86.9 -88.9 -70.8 -110.8 ...\n",
      " $ timbre_6_max            : num  73.5 75.5 66.5 64.5 72.4 ...\n",
      " $ timbre_7_min            : num  -71.1 -65.8 -67.4 -63.7 -55.9 ...\n",
      " $ timbre_7_max            : num  82.5 106.9 80.6 96.7 110.3 ...\n",
      " $ timbre_8_min            : num  -52 -61.3 -59.8 -78.7 -56.5 ...\n",
      " $ timbre_8_max            : num  39.1 35.4 46 41.1 37.6 ...\n",
      " $ timbre_9_min            : num  -35.4 -81.9 -46.3 -49.2 -48.6 ...\n",
      " $ timbre_9_max            : num  71.6 74.6 59.9 95.4 67.6 ...\n",
      " $ timbre_10_min           : num  -126.4 -103.8 -108.3 -102.7 -52.8 ...\n",
      " $ timbre_10_max           : num  18.7 121.9 33.3 46.4 22.9 ...\n",
      " $ timbre_11_min           : num  -44.8 -38.9 -43.7 -59.4 -50.4 ...\n",
      " $ timbre_11_max           : num  26 22.5 25.7 37.1 32.8 ...\n",
      " $ Top10                   : int  0 0 0 0 0 0 0 0 0 1 ...\n"
     ]
    }
   ],
   "source": [
    "str(songs)"
   ]
  },
  {
   "cell_type": "markdown",
   "metadata": {},
   "source": [
    "### Data Summary ###"
   ]
  },
  {
   "cell_type": "code",
   "execution_count": 4,
   "metadata": {},
   "outputs": [
    {
     "data": {
      "text/plain": [
       "      year          songtitle              artistname  \n",
       " Min.   :1990   Intro    :  15   Various artists: 162  \n",
       " 1st Qu.:1997   Forever  :   8   Anal Cunt      :  49  \n",
       " Median :2002   Home     :   7   Various Artists:  44  \n",
       " Mean   :2001   Goodbye  :   6   Tori Amos      :  41  \n",
       " 3rd Qu.:2006   Again    :   5   Eels           :  37  \n",
       " Max.   :2010   Beautiful:   5   Napalm Death   :  37  \n",
       "                (Other)  :7528   (Other)        :7204  \n",
       "                songID                   artistID    timesignature  \n",
       " SOALSZJ1370F1A7C75:   2   ARAGWS81187FB3F768: 222   Min.   :0.000  \n",
       " SOANPAC13936E0B640:   2   ARL14X91187FB4CF14:  49   1st Qu.:4.000  \n",
       " SOBDGMX12B0B80808E:   2   AR4KS8C1187FB4CF3D:  41   Median :4.000  \n",
       " SOBUDCZ12A58A80013:   2   AR0JZZ01187B9B2C99:  37   Mean   :3.894  \n",
       " SODFRLK13134387FB5:   2   ARZGTK71187B9AC7F5:  37   3rd Qu.:4.000  \n",
       " SOEJPOK12A6D4FAFE4:   2   AR95XYH1187FB53951:  31   Max.   :7.000  \n",
       " (Other)           :7562   (Other)           :7157                  \n",
       " timesignature_confidence    loudness           tempo        tempo_confidence\n",
       " Min.   :0.0000           Min.   :-42.451   Min.   :  0.00   Min.   :0.0000  \n",
       " 1st Qu.:0.8193           1st Qu.:-10.847   1st Qu.: 88.86   1st Qu.:0.3720  \n",
       " Median :0.9790           Median : -7.649   Median :103.27   Median :0.7015  \n",
       " Mean   :0.8533           Mean   : -8.817   Mean   :107.35   Mean   :0.6229  \n",
       " 3rd Qu.:1.0000           3rd Qu.: -5.640   3rd Qu.:124.80   3rd Qu.:0.8920  \n",
       " Max.   :1.0000           Max.   :  1.305   Max.   :244.31   Max.   :1.0000  \n",
       "                                                                             \n",
       "      key         key_confidence       energy            pitch        \n",
       " Min.   : 0.000   Min.   :0.0000   Min.   :0.00002   Min.   :0.00000  \n",
       " 1st Qu.: 2.000   1st Qu.:0.2040   1st Qu.:0.50014   1st Qu.:0.00300  \n",
       " Median : 6.000   Median :0.4515   Median :0.71816   Median :0.00700  \n",
       " Mean   : 5.385   Mean   :0.4338   Mean   :0.67547   Mean   :0.01082  \n",
       " 3rd Qu.: 9.000   3rd Qu.:0.6460   3rd Qu.:0.88740   3rd Qu.:0.01400  \n",
       " Max.   :11.000   Max.   :1.0000   Max.   :0.99849   Max.   :0.54100  \n",
       "                                                                      \n",
       "  timbre_0_min     timbre_0_max    timbre_1_min      timbre_1_max   \n",
       " Min.   : 0.000   Min.   :12.58   Min.   :-333.72   Min.   :-74.37  \n",
       " 1st Qu.: 0.000   1st Qu.:53.12   1st Qu.:-160.12   1st Qu.:171.13  \n",
       " Median : 0.027   Median :55.53   Median :-107.75   Median :194.40  \n",
       " Mean   : 4.123   Mean   :54.46   Mean   :-110.79   Mean   :212.34  \n",
       " 3rd Qu.: 2.772   3rd Qu.:57.08   3rd Qu.: -59.71   3rd Qu.:239.24  \n",
       " Max.   :48.353   Max.   :64.01   Max.   : 123.73   Max.   :549.97  \n",
       "                                                                    \n",
       "  timbre_2_min      timbre_2_max      timbre_3_min      timbre_3_max   \n",
       " Min.   :-324.86   Min.   : -0.832   Min.   :-495.36   Min.   : 12.85  \n",
       " 1st Qu.:-167.64   1st Qu.:100.519   1st Qu.:-226.87   1st Qu.:127.14  \n",
       " Median :-136.60   Median :129.908   Median :-170.61   Median :189.50  \n",
       " Mean   :-136.89   Mean   :136.673   Mean   :-186.11   Mean   :211.81  \n",
       " 3rd Qu.:-106.51   3rd Qu.:166.121   3rd Qu.:-131.56   3rd Qu.:290.72  \n",
       " Max.   :  34.57   Max.   :397.095   Max.   : -21.55   Max.   :499.62  \n",
       "                                                                       \n",
       "  timbre_4_min      timbre_4_max      timbre_5_min      timbre_5_max   \n",
       " Min.   :-207.07   Min.   : -0.651   Min.   :-262.48   Min.   :-22.41  \n",
       " 1st Qu.: -77.69   1st Qu.: 83.966   1st Qu.:-113.58   1st Qu.: 84.64  \n",
       " Median : -63.83   Median :107.422   Median : -95.47   Median :119.90  \n",
       " Mean   : -65.28   Mean   :108.227   Mean   :-104.00   Mean   :127.04  \n",
       " 3rd Qu.: -51.34   3rd Qu.:130.286   3rd Qu.: -81.02   3rd Qu.:162.34  \n",
       " Max.   :  51.43   Max.   :257.801   Max.   : -42.17   Max.   :350.94  \n",
       "                                                                       \n",
       "  timbre_6_min       timbre_6_max     timbre_7_min       timbre_7_max   \n",
       " Min.   :-152.170   Min.   : 12.70   Min.   :-214.791   Min.   : 15.70  \n",
       " 1st Qu.: -94.792   1st Qu.: 59.04   1st Qu.:-101.171   1st Qu.: 76.50  \n",
       " Median : -80.418   Median : 70.47   Median : -81.797   Median : 94.63  \n",
       " Mean   : -80.944   Mean   : 72.17   Mean   : -84.313   Mean   : 95.65  \n",
       " 3rd Qu.: -66.521   3rd Qu.: 83.19   3rd Qu.: -64.301   3rd Qu.:112.71  \n",
       " Max.   :   4.503   Max.   :208.39   Max.   :   5.153   Max.   :214.82  \n",
       "                                                                        \n",
       "  timbre_8_min       timbre_8_max     timbre_9_min      timbre_9_max    \n",
       " Min.   :-158.756   Min.   :-25.95   Min.   :-149.51   Min.   :  8.415  \n",
       " 1st Qu.: -73.051   1st Qu.: 40.58   1st Qu.: -70.28   1st Qu.: 53.037  \n",
       " Median : -62.661   Median : 49.22   Median : -58.65   Median : 65.935  \n",
       " Mean   : -63.704   Mean   : 50.06   Mean   : -59.52   Mean   : 68.028  \n",
       " 3rd Qu.: -52.983   3rd Qu.: 58.46   3rd Qu.: -47.70   3rd Qu.: 81.267  \n",
       " Max.   :  -2.382   Max.   :144.99   Max.   :   1.14   Max.   :161.518  \n",
       "                                                                        \n",
       " timbre_10_min     timbre_10_max     timbre_11_min      timbre_11_max   \n",
       " Min.   :-208.82   Min.   : -6.359   Min.   :-145.599   Min.   :  7.20  \n",
       " 1st Qu.:-105.13   1st Qu.: 39.196   1st Qu.: -58.058   1st Qu.: 38.98  \n",
       " Median : -83.07   Median : 50.895   Median : -50.892   Median : 46.44  \n",
       " Mean   : -87.34   Mean   : 55.521   Mean   : -50.868   Mean   : 47.49  \n",
       " 3rd Qu.: -64.52   3rd Qu.: 66.593   3rd Qu.: -43.292   3rd Qu.: 55.03  \n",
       " Max.   : -10.64   Max.   :192.417   Max.   :  -6.497   Max.   :110.27  \n",
       "                                                                        \n",
       "     Top10       \n",
       " Min.   :0.0000  \n",
       " 1st Qu.:0.0000  \n",
       " Median :0.0000  \n",
       " Mean   :0.1477  \n",
       " 3rd Qu.:0.0000  \n",
       " Max.   :1.0000  \n",
       "                 "
      ]
     },
     "metadata": {},
     "output_type": "display_data"
    }
   ],
   "source": [
    "summary(songs)"
   ]
  },
  {
   "cell_type": "markdown",
   "metadata": {},
   "source": [
    "### Exploratory Data Analysis ###"
   ]
  },
  {
   "cell_type": "code",
   "execution_count": 27,
   "metadata": {},
   "outputs": [
    {
     "data": {
      "image/png": "[encoded data removed]",
      "text/plain": [
       "plot without title"
      ]
     },
     "metadata": {},
     "output_type": "display_data"
    }
   ],
   "source": [
    "songs_by_year = songs %>%\n",
    "    select(year) %>%\n",
    "    group_by(year) %>%\n",
    "    tally()\n",
    "options(repr.plot.width=8, repr.plot.height=4)\n",
    "ggplot(songs_by_year, aes(x = year, y = n)) + \n",
    "    geom_line() + \n",
    "    scale_x_continuous(breaks=seq(1990,2010,2)) +\n",
    "    labs(x=\"Year\", y=\"Song Count\") +\n",
    "    ggtitle(\"Billboard Hot 100 Chart Songs: Raw Count By Year\") +\n",
    "    theme(plot.title = element_text(hjust=.5))"
   ]
  },
  {
   "cell_type": "code",
   "execution_count": 43,
   "metadata": {},
   "outputs": [
    {
     "data": {
      "image/png": "[encoded data removed]",
      "text/plain": [
       "plot without title"
      ]
     },
     "metadata": {},
     "output_type": "display_data"
    }
   ],
   "source": [
    "Pct_Top10_by_year = songs %>%\n",
    "    group_by(year, Top10) %>%\n",
    "    summarise (n = n()) %>%\n",
    "    mutate(Percentage = n / sum(n)) %>%\n",
    "    filter(Top10==1)\n",
    "options(repr.plot.width=8, repr.plot.height=4)\n",
    "ggplot(Pct_Top10_by_year, aes(x = year, y = Percentage)) + \n",
    "    geom_bar(stat='identity') +\n",
    "    ggtitle(\"Percentage Billboard Hot 100 Top 10 Songs by Year\") +\n",
    "    theme(plot.title = element_text(hjust=.5)) +\n",
    "    xlab(\"Year\") +\n",
    "    ylab(\"Songs in Top 10 of Billboard Hot 100 (%)\") +\n",
    "    scale_x_continuous(breaks=seq(1990,2010,2))"
   ]
  },
  {
   "cell_type": "code",
   "execution_count": null,
   "metadata": {},
   "outputs": [],
   "source": [
    "cols = c(names(songs)[6:38])\n",
    "corr_subset = songs %>%\n",
    "    select(cols)"
   ]
  },
  {
   "cell_type": "code",
   "execution_count": null,
   "metadata": {},
   "outputs": [],
   "source": [
    "corrplot(cor(corr_subset, use=\"complete.obs\"))"
   ]
  },
  {
   "attachments": {},
   "cell_type": "markdown",
   "metadata": {},
   "source": [
    "Our data set is largely free of multicollinearity, with the exception of three variables: timbre_0_max, loudness, and energy. We will drop at least one of these prior to finalizing our model."
   ]
  },
  {
   "cell_type": "markdown",
   "metadata": {},
   "source": [
    "Our data set ends in 2010. It might be interesting to find out how many songs came out that year."
   ]
  },
  {
   "cell_type": "code",
   "execution_count": null,
   "metadata": {},
   "outputs": [],
   "source": [
    "songs_2010 = table(songs$year==2010)[[2]]\n",
    "cat(paste(songs_2010, \"songs were released in 2010.\"))"
   ]
  },
  {
   "cell_type": "markdown",
   "metadata": {},
   "source": [
    "Michael Jackson was a prolific, and popular, song writer both before and during the period under consideration. As it so happens, he released 18 songs in our dataset."
   ]
  },
  {
   "cell_type": "code",
   "execution_count": null,
   "metadata": {},
   "outputs": [],
   "source": [
    "songs_MJ = table(songs$artistname==\"Michael Jackson\")[[2]]\n",
    "cat(paste(songs_MJ, \"songs were released by Michael Jackson.\"))"
   ]
  },
  {
   "cell_type": "markdown",
   "metadata": {},
   "source": [
    "Since our study focuses on song popularity, we should take a moment to find out what songs, if any, by Michael Jackson made the top 10."
   ]
  },
  {
   "cell_type": "code",
   "execution_count": null,
   "metadata": {},
   "outputs": [],
   "source": [
    "MJ_subset = subset(songs, artistname==\"Michael Jackson\")\n",
    "songs_10 = MJ_subset[c(\"songtitle\", \"Top10\")]\n",
    "songs_10"
   ]
  },
  {
   "cell_type": "markdown",
   "metadata": {},
   "source": [
    "It looks like Michael Jackson had 5 songs in the Top 10 over the period covered by our data set."
   ]
  },
  {
   "cell_type": "markdown",
   "metadata": {},
   "source": [
    "We find it interesting that our data set contains time signature as a variable. This is a musical trait considered by all who play in an ensemble, but rarely by those who simply listen to music. If this variable affects song popularity, it would be at a subconscious level, which would be fascinating."
   ]
  },
  {
   "cell_type": "code",
   "execution_count": null,
   "metadata": {},
   "outputs": [],
   "source": [
    "table(songs$timesignature)"
   ]
  },
  {
   "cell_type": "markdown",
   "metadata": {},
   "source": [
    "As shown above, our 'timesignature' variable takes on the following values: 0,1,3,4,5,7. Four is the most popular signature. "
   ]
  },
  {
   "cell_type": "markdown",
   "metadata": {},
   "source": [
    "Sometimes one is simply in the mood to hit the dance floor and throw down. When this is the case, it's best to have a DJ spinning a song with a fast tempo (measured in beats per minute). "
   ]
  },
  {
   "cell_type": "code",
   "execution_count": null,
   "metadata": {},
   "outputs": [],
   "source": [
    "fastest_song=songs$songtitle[which.max(songs$tempo)]\n",
    "cat(paste(\"The song with the fastest tempo is\", fastest_song))"
   ]
  },
  {
   "cell_type": "markdown",
   "metadata": {},
   "source": [
    "## The Model##"
   ]
  },
  {
   "cell_type": "markdown",
   "metadata": {},
   "source": [
    "Our response variable is a binary classification. Hence, a logistic regression framework is a reasonable choice for modeling whether or not a song will be in the Top10. This model will include only those variables that describe the numerical properties of the songs in our dataset."
   ]
  },
  {
   "cell_type": "code",
   "execution_count": null,
   "metadata": {},
   "outputs": [],
   "source": [
    "train = subset(songs, year <= 2009)\n",
    "test = subset(songs, year == 2010)"
   ]
  },
  {
   "cell_type": "code",
   "execution_count": null,
   "metadata": {},
   "outputs": [],
   "source": [
    "exclusions = c('year', 'songtitle', 'artistname', 'songID', 'artistID')\n",
    "train2 = train[,!(names(train)%in% exclusions)]\n",
    "test2 = test[,!(names(test) %in% exclusions)]"
   ]
  },
  {
   "cell_type": "code",
   "execution_count": null,
   "metadata": {},
   "outputs": [],
   "source": [
    "str(test2)"
   ]
  },
  {
   "cell_type": "code",
   "execution_count": null,
   "metadata": {},
   "outputs": [],
   "source": [
    "logistic1 = glm(Top10 ~ ., data=train2, family=binomial)"
   ]
  },
  {
   "cell_type": "code",
   "execution_count": null,
   "metadata": {},
   "outputs": [],
   "source": [
    "summary(logistic1)"
   ]
  },
  {
   "cell_type": "markdown",
   "metadata": {},
   "source": [
    "***Initial Observations:***\n",
    "- Higher key_confidence, timesignature_confidence, & tempo_confidence leads to a higher likelihood a song will land in the Top 10.\n",
    "- Lower key_confidence, timesignature_confidence, & tempo_confidence is the hallmark of songs that are less complex. The coefficients on these variables are low, so the typical mainstream song preferred by listeners most likely lacks complexity.\n",
    "- Songs with heavy instrumentation tend to be loud and often energetic.  The coefficient for loudness supports the notion that listeners enjoy this trait, however, the coefficient for energy does not. Multicollinearity could be at play. "
   ]
  },
  {
   "cell_type": "code",
   "execution_count": null,
   "metadata": {},
   "outputs": [],
   "source": [
    "correl = cor(train2$loudness, train2$energy)\n",
    "cat(paste(\"The correlation between 'loudness' & 'energy':\", round(correl,4)))"
   ]
  },
  {
   "cell_type": "markdown",
   "metadata": {},
   "source": [
    "Multicollinearity is indeed at work within our model and either loudness or energy must go. We will try eliminating loudness simply because loud songs are not necessarily good songs. "
   ]
  },
  {
   "cell_type": "code",
   "execution_count": null,
   "metadata": {},
   "outputs": [],
   "source": [
    "logistic2 = glm(Top10 ~ . -loudness, data=train2, family=binomial)"
   ]
  },
  {
   "cell_type": "code",
   "execution_count": null,
   "metadata": {},
   "outputs": [],
   "source": [
    "summary(logistic2)"
   ]
  },
  {
   "cell_type": "markdown",
   "metadata": {},
   "source": [
    "The removal of our 'loudness' variable from the model swung the coefficient for 'energy' in the right direction, however, it is no longer significant. Moreover, our AIC increased from 4827.2 to 4937.8. This indicates we now have an inferior model. We'll now see what happens when we keep 'loudness' in our model and eliminate 'energy'. "
   ]
  },
  {
   "cell_type": "code",
   "execution_count": null,
   "metadata": {},
   "outputs": [],
   "source": [
    "logistic3 = glm(Top10 ~ . -energy, data=train2, family=binomial)"
   ]
  },
  {
   "cell_type": "code",
   "execution_count": null,
   "metadata": {},
   "outputs": [],
   "source": [
    "summary(logistic3)"
   ]
  },
  {
   "cell_type": "markdown",
   "metadata": {},
   "source": [
    "While our AIC increased marginally from 4827.2 to 4848.7, indicating a slight decline in model quality, removing the 'energy' term from the model eliminated our multicollinearity issue and left us with our highly significant 'loudness' variable. Thus, the slight increase in AIC seems worth it. "
   ]
  },
  {
   "cell_type": "markdown",
   "metadata": {},
   "source": [
    "### Out-of-Sample Testing ###"
   ]
  },
  {
   "cell_type": "code",
   "execution_count": null,
   "metadata": {},
   "outputs": [],
   "source": [
    "logistic3_pred = predict(logistic3, newdata=test2, type='response')"
   ]
  },
  {
   "cell_type": "markdown",
   "metadata": {},
   "source": [
    "**Confusion Matrix Calculation & Accuracy**"
   ]
  },
  {
   "cell_type": "code",
   "execution_count": null,
   "metadata": {},
   "outputs": [],
   "source": [
    "confusion_mtx = function(df, observed_y, predicted_y, threshold) {\n",
    "    \n",
    "    # Input: dataframe, response variable name as string, vector of \n",
    "    # predicted values, threshold value\n",
    "    # \n",
    "    # Output: Confusion matrix to assess model performance\n",
    "    \n",
    "    cmtx=table(df[[observed_y]], predicted_y > threshold)\n",
    "    \n",
    "    return (cmtx)\n",
    "}\n"
   ]
  },
  {
   "cell_type": "code",
   "execution_count": null,
   "metadata": {},
   "outputs": [],
   "source": [
    "cmtx=confusion_mtx(test2, 'Top10', logistic3_pred, .45)\n",
    "addmargins(cmtx)"
   ]
  },
  {
   "cell_type": "code",
   "execution_count": null,
   "metadata": {},
   "outputs": [],
   "source": [
    "confusion_accuracy = function(confusion_matrix) {\n",
    "    \n",
    "    # Input: confusion matrix\n",
    "    #\n",
    "    # Output: Message stating the accuracy of the model based on the data\n",
    "    # contained in the matrix.\n",
    "    \n",
    "    accuracy = sum(diag(prop.table(confusion_matrix)))\n",
    "    \n",
    "    return (cat(paste(\"Based on the confusion matrix, the out-of-sample accuracy of our model is\", round(accuracy,4)*100, \"%.\")))\n",
    "}\n",
    "\n",
    "confusion_accuracy(cmtx)"
   ]
  },
  {
   "cell_type": "markdown",
   "metadata": {},
   "source": [
    "Our model's out-of-sample accuracy of 87.94% seems like a decent result, but how does it compare to the baseline prediction derived from the test set?"
   ]
  },
  {
   "cell_type": "code",
   "execution_count": null,
   "metadata": {},
   "outputs": [],
   "source": [
    "cat(paste(\"Our baseline model has an accuracy of \", round(table(test2$Top10)[[1]]/(table(test2$Top10)[[1]]+table(test2$Top10)[[2]]),4)*100),\"%.\")"
   ]
  },
  {
   "cell_type": "markdown",
   "metadata": {},
   "source": [
    "It looks like we definitely took a step in the right direction, but was it worth it?"
   ]
  },
  {
   "cell_type": "markdown",
   "metadata": {},
   "source": [
    "### Model Validation ###"
   ]
  },
  {
   "cell_type": "markdown",
   "metadata": {},
   "source": [
    "Recall that our objective is to predict a Top10 hit. Our baseline model fails in this regard. It predicts the most frequent outcome, which is that a song ****will not**** become a hit. A record company would most definitely be interested in a model that could predict a Top10 hit, while minimizing the potential for investment losses."
   ]
  },
  {
   "cell_type": "markdown",
   "metadata": {},
   "source": [
    "Looking at our confusion matrix for our third model, we see that it accurately predicts that 19 songs will be Top10 hits and inaccurately predicts only 5 songs will be in the Top10.  This represents a decisive improvement over the baseline model.  "
   ]
  },
  {
   "cell_type": "code",
   "execution_count": null,
   "metadata": {},
   "outputs": [],
   "source": [
    "cmtx=confusion_mtx(test2, 'Top10', logistic3_pred, .45)\n",
    "addmargins(cmtx)"
   ]
  },
  {
   "cell_type": "code",
   "execution_count": null,
   "metadata": {},
   "outputs": [],
   "source": [
    "sensitivity = function(confusion_mtx) {\n",
    "    #Input: 2x2 Confusion Matrix\n",
    "    #\n",
    "    #Output: The sensitivity/true positive rate of the matrix\n",
    "    \n",
    "    true_poz_rate = (confusion_mtx[[4]]/(confusion_mtx[[2]]+confusion_mtx[[4]]))\n",
    "    return (true_poz_rate)\n",
    "}\n",
    "\n",
    "cat(paste(\"Our model has a sensitivity (true positive rate) of \", round(sensitivity(cmtx),4)*100),\"%.\")"
   ]
  },
  {
   "cell_type": "code",
   "execution_count": null,
   "metadata": {},
   "outputs": [],
   "source": [
    "specificity = function(confusion_mtx) {\n",
    "    #Input: 2x2 Confusion Matrix\n",
    "    #\n",
    "    #Output: The specificity/true negative rate of the matrix\n",
    "    \n",
    "    true_neg_rate = (confusion_mtx[[1]]/(confusion_mtx[[1]]+confusion_mtx[[3]]))\n",
    "    return (true_neg_rate)\n",
    "}\n",
    "cat(paste(\"Our model has a specificity (true negative rate) of \", round(specificity(cmtx),4)*100),\"%.\")"
   ]
  },
  {
   "cell_type": "markdown",
   "metadata": {},
   "source": [
    "The above results indicate our model favors specificity over sensitvity. This implies our model rather conservative when predicting Top10 hits with a threshold of .45, doing so rarely. The model, therefore, seems quite useful and represents a distinct edge over the baseline approach.  "
   ]
  }
 ],
 "metadata": {
  "kernelspec": {
   "display_name": "R",
   "language": "R",
   "name": "ir"
  },
  "language_info": {
   "codemirror_mode": "r",
   "file_extension": ".r",
   "mimetype": "text/x-r-source",
   "name": "R",
   "pygments_lexer": "r",
   "version": "3.6.0"
  }
 },
 "nbformat": 4,
 "nbformat_minor": 2
}
