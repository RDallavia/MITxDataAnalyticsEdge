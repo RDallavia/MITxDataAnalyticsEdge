{
 "cells": [
  {
   "cell_type": "markdown",
   "metadata": {},
   "source": [
    "## Predicting Loan Repayment ##"
   ]
  },
  {
   "cell_type": "markdown",
   "metadata": {},
   "source": [
    "## Key Takeaways: ##\n",
    "\n",
    "**-Multiple Imputation with Chained Equations (MICE) can be used to cope with NAs in one's data set.**\n",
    "\n",
    "**-A multi-factor logistic model outperformed both a simple and \"smart\" baseline methods and produced a respectable AUC value relative to competing models.**\n",
    "\n",
    "**-A bivariate model using only lender-assigned interest rates as a predictor of non-payment performed poorly suggesting interest rates do not adequately capture risk of default.**\n",
    "\n",
    "**-The model demonstrated some promise as the basis for a simple and risk-adjusted investment strategy, though it would need substantial adjustments to be placed in production.**"
   ]
  },
  {
   "cell_type": "markdown",
   "metadata": {},
   "source": [
    "### The Problem ###"
   ]
  },
  {
   "cell_type": "markdown",
   "metadata": {},
   "source": [
    "\"In the lending industry, investors provide loans to borrowers in exchange for the promise of repayment with interest. If the borrower repays the loan, then the lender profits from the interest. However, if the borrower is unable to repay the loan, then the lender loses money. Therefore, lenders face the problem of predicting the risk of a borrower being unable to repay a loan.\n",
    "\n",
    "To address this problem, we will use publicly available data from LendingClub.com, a website that connects borrowers and investors over the Internet. This dataset represents 9,578 3-year loans that were funded through the LendingClub.com platform between May 2007 and February 2010. The binary dependent variable not.fully.paid indicates that the loan was not paid back in full (the borrower either defaulted or the loan was \"charged off,\" meaning the borrower was deemed unlikely to ever pay it back).\"\n",
    "\n",
    "(source: MITx)"
   ]
  },
  {
   "cell_type": "markdown",
   "metadata": {},
   "source": [
    "### The Variables ###"
   ]
  },
  {
   "cell_type": "markdown",
   "metadata": {},
   "source": [
    "To predict this dependent variable, we will use the following independent variables available to the investor when deciding whether to fund a loan:\n",
    "\n",
    "**credit.policy**: 1 if the customer meets the credit underwriting criteria of LendingClub.com, and 0 otherwise.\n",
    "\n",
    "**purpose**: The purpose of the loan (takes values \"credit_card\", \"debt_consolidation\", \"educational\", \"major_purchase\", \"small_business\", and \"all_other\").\n",
    "\n",
    "**int.rate**: The interest rate of the loan, as a proportion (a rate of 11% would be stored as 0.11). Borrowers judged by LendingClub.com to be more risky are assigned higher interest rates.\n",
    "\n",
    "**installment**: The monthly installments ($) owed by the borrower if the loan is funded.\n",
    "\n",
    "**log.annual.inc**: The natural log of the self-reported annual income of the borrower.\n",
    "\n",
    "**dti**: The debt-to-income ratio of the borrower (amount of debt divided by annual income).\n",
    "\n",
    "**fico**: The FICO credit score of the borrower.\n",
    "\n",
    "**days.with.cr.line**: The number of days the borrower has had a credit line.\n",
    "\n",
    "**revol.bal**: The borrower's revolving balance (amount unpaid at the end of the credit card billing cycle).\n",
    "\n",
    "**revol.util**: The borrower's revolving line utilization rate (the amount of the credit line used relative to total credit available).\n",
    "\n",
    "**inq.last.6mths**: The borrower's number of inquiries by creditors in the last 6 months.\n",
    "\n",
    "**delinq.2yrs**: The number of times the borrower had been 30+ days past due on a payment in the past 2 years.\n",
    "\n",
    "**pub.rec**: The borrower's number of derogatory public records (bankruptcy filings, tax liens, or judgments).\n",
    "\n",
    "(source: MITx)"
   ]
  },
  {
   "cell_type": "markdown",
   "metadata": {},
   "source": [
    "### The Data ###"
   ]
  },
  {
   "cell_type": "code",
   "execution_count": 1,
   "metadata": {},
   "outputs": [],
   "source": [
    "loans = read.csv(\"loans.csv\")"
   ]
  },
  {
   "cell_type": "code",
   "execution_count": 2,
   "metadata": {},
   "outputs": [
    {
     "name": "stdout",
     "output_type": "stream",
     "text": [
      "'data.frame':\t9578 obs. of  14 variables:\n",
      " $ credit.policy    : int  1 1 1 1 1 1 1 1 1 1 ...\n",
      " $ purpose          : Factor w/ 7 levels \"all_other\",\"credit_card\",..: 3 2 3 3 2 2 3 1 5 3 ...\n",
      " $ int.rate         : num  0.119 0.107 0.136 0.101 0.143 ...\n",
      " $ installment      : num  829 228 367 162 103 ...\n",
      " $ log.annual.inc   : num  11.4 11.1 10.4 11.4 11.3 ...\n",
      " $ dti              : num  19.5 14.3 11.6 8.1 15 ...\n",
      " $ fico             : int  737 707 682 712 667 727 667 722 682 707 ...\n",
      " $ days.with.cr.line: num  5640 2760 4710 2700 4066 ...\n",
      " $ revol.bal        : int  28854 33623 3511 33667 4740 50807 3839 24220 69909 5630 ...\n",
      " $ revol.util       : num  52.1 76.7 25.6 73.2 39.5 51 76.8 68.6 51.1 23 ...\n",
      " $ inq.last.6mths   : int  0 0 1 1 0 0 0 0 1 1 ...\n",
      " $ delinq.2yrs      : int  0 0 0 0 1 0 0 0 0 0 ...\n",
      " $ pub.rec          : int  0 0 0 0 0 0 1 0 0 0 ...\n",
      " $ not.fully.paid   : int  0 0 0 0 0 0 1 1 0 0 ...\n"
     ]
    }
   ],
   "source": [
    "str(loans)"
   ]
  },
  {
   "cell_type": "code",
   "execution_count": 3,
   "metadata": {},
   "outputs": [
    {
     "data": {
      "text/plain": [
       " credit.policy                 purpose        int.rate       installment    \n",
       " Min.   :0.000   all_other         :2331   Min.   :0.0600   Min.   : 15.67  \n",
       " 1st Qu.:1.000   credit_card       :1262   1st Qu.:0.1039   1st Qu.:163.77  \n",
       " Median :1.000   debt_consolidation:3957   Median :0.1221   Median :268.95  \n",
       " Mean   :0.805   educational       : 343   Mean   :0.1226   Mean   :319.09  \n",
       " 3rd Qu.:1.000   home_improvement  : 629   3rd Qu.:0.1407   3rd Qu.:432.76  \n",
       " Max.   :1.000   major_purchase    : 437   Max.   :0.2164   Max.   :940.14  \n",
       "                 small_business    : 619                                    \n",
       " log.annual.inc        dti              fico       days.with.cr.line\n",
       " Min.   : 7.548   Min.   : 0.000   Min.   :612.0   Min.   :  179    \n",
       " 1st Qu.:10.558   1st Qu.: 7.213   1st Qu.:682.0   1st Qu.: 2820    \n",
       " Median :10.928   Median :12.665   Median :707.0   Median : 4140    \n",
       " Mean   :10.932   Mean   :12.607   Mean   :710.8   Mean   : 4562    \n",
       " 3rd Qu.:11.290   3rd Qu.:17.950   3rd Qu.:737.0   3rd Qu.: 5730    \n",
       " Max.   :14.528   Max.   :29.960   Max.   :827.0   Max.   :17640    \n",
       " NA's   :4                                         NA's   :29       \n",
       "   revol.bal         revol.util     inq.last.6mths    delinq.2yrs     \n",
       " Min.   :      0   Min.   :  0.00   Min.   : 0.000   Min.   : 0.0000  \n",
       " 1st Qu.:   3187   1st Qu.: 22.70   1st Qu.: 0.000   1st Qu.: 0.0000  \n",
       " Median :   8596   Median : 46.40   Median : 1.000   Median : 0.0000  \n",
       " Mean   :  16914   Mean   : 46.87   Mean   : 1.572   Mean   : 0.1638  \n",
       " 3rd Qu.:  18250   3rd Qu.: 71.00   3rd Qu.: 2.000   3rd Qu.: 0.0000  \n",
       " Max.   :1207359   Max.   :119.00   Max.   :33.000   Max.   :13.0000  \n",
       "                   NA's   :62       NA's   :29       NA's   :29       \n",
       "    pub.rec       not.fully.paid  \n",
       " Min.   :0.0000   Min.   :0.0000  \n",
       " 1st Qu.:0.0000   1st Qu.:0.0000  \n",
       " Median :0.0000   Median :0.0000  \n",
       " Mean   :0.0621   Mean   :0.1601  \n",
       " 3rd Qu.:0.0000   3rd Qu.:0.0000  \n",
       " Max.   :5.0000   Max.   :1.0000  \n",
       " NA's   :29                       "
      ]
     },
     "metadata": {},
     "output_type": "display_data"
    }
   ],
   "source": [
    "summary(loans)"
   ]
  },
  {
   "cell_type": "code",
   "execution_count": 9,
   "metadata": {},
   "outputs": [
    {
     "name": "stdout",
     "output_type": "stream",
     "text": [
      "16.01 % of loans are not fully paid."
     ]
    }
   ],
   "source": [
    "unpaid = round((sum(loans$not.fully.paid)/nrow(loans))*100,2)\n",
    "cat(paste(unpaid,\"% of loans are not fully paid.\"))"
   ]
  },
  {
   "cell_type": "markdown",
   "metadata": {},
   "source": [
    "Columns missing at least one value are listed below. We'll be filling these in, as we would like to predict the risk for all borrowers and not simply the ones for whom we have a complete record."
   ]
  },
  {
   "cell_type": "code",
   "execution_count": 23,
   "metadata": {},
   "outputs": [
    {
     "data": {
      "text/html": [
       "<ol class=list-inline>\n",
       "\t<li>'log.annual.inc'</li>\n",
       "\t<li>'days.with.cr.line'</li>\n",
       "\t<li>'revol.util'</li>\n",
       "\t<li>'inq.last.6mths'</li>\n",
       "\t<li>'delinq.2yrs'</li>\n",
       "\t<li>'pub.rec'</li>\n",
       "</ol>\n"
      ],
      "text/latex": [
       "\\begin{enumerate*}\n",
       "\\item 'log.annual.inc'\n",
       "\\item 'days.with.cr.line'\n",
       "\\item 'revol.util'\n",
       "\\item 'inq.last.6mths'\n",
       "\\item 'delinq.2yrs'\n",
       "\\item 'pub.rec'\n",
       "\\end{enumerate*}\n"
      ],
      "text/markdown": [
       "1. 'log.annual.inc'\n",
       "2. 'days.with.cr.line'\n",
       "3. 'revol.util'\n",
       "4. 'inq.last.6mths'\n",
       "5. 'delinq.2yrs'\n",
       "6. 'pub.rec'\n",
       "\n",
       "\n"
      ],
      "text/plain": [
       "[1] \"log.annual.inc\"    \"days.with.cr.line\" \"revol.util\"       \n",
       "[4] \"inq.last.6mths\"    \"delinq.2yrs\"       \"pub.rec\"          "
      ]
     },
     "metadata": {},
     "output_type": "display_data"
    }
   ],
   "source": [
    "# https://stackoverflow.com/questions/20364450\n",
    "na_values = colnames(loans)[apply(is.na(loans), 2, any)]\n",
    "na_values"
   ]
  },
  {
   "cell_type": "markdown",
   "metadata": {},
   "source": [
    "We will use multiple imputation by chained equations (a/k/a \"MICE\") to computationally fill in missing values using data available to us."
   ]
  },
  {
   "cell_type": "code",
   "execution_count": 38,
   "metadata": {},
   "outputs": [
    {
     "name": "stderr",
     "output_type": "stream",
     "text": [
      "Warning message in install.packages(\"mice\"):\n",
      "“installation of package ‘mice’ had non-zero exit status”Updating HTML index of packages in '.Library'\n",
      "Making 'packages.html' ... done\n"
     ]
    }
   ],
   "source": [
    "install.packages(\"mice\")"
   ]
  },
  {
   "cell_type": "code",
   "execution_count": 39,
   "metadata": {},
   "outputs": [
    {
     "name": "stderr",
     "output_type": "stream",
     "text": [
      "Warning message:\n",
      "“package ‘mice’ was built under R version 3.6.1”Loading required package: lattice\n",
      "\n",
      "Attaching package: ‘mice’\n",
      "\n",
      "The following objects are masked from ‘package:base’:\n",
      "\n",
      "    cbind, rbind\n",
      "\n"
     ]
    }
   ],
   "source": [
    "library(mice)"
   ]
  },
  {
   "cell_type": "code",
   "execution_count": 40,
   "metadata": {},
   "outputs": [
    {
     "name": "stdout",
     "output_type": "stream",
     "text": [
      "\n",
      " iter imp variable\n",
      "  1   1  log.annual.inc  days.with.cr.line  revol.util  inq.last.6mths  delinq.2yrs  pub.rec\n",
      "  1   2  log.annual.inc  days.with.cr.line  revol.util  inq.last.6mths  delinq.2yrs  pub.rec\n",
      "  1   3  log.annual.inc  days.with.cr.line  revol.util  inq.last.6mths  delinq.2yrs  pub.rec\n",
      "  1   4  log.annual.inc  days.with.cr.line  revol.util  inq.last.6mths  delinq.2yrs  pub.rec\n",
      "  1   5  log.annual.inc  days.with.cr.line  revol.util  inq.last.6mths  delinq.2yrs  pub.rec\n",
      "  2   1  log.annual.inc  days.with.cr.line  revol.util  inq.last.6mths  delinq.2yrs  pub.rec\n",
      "  2   2  log.annual.inc  days.with.cr.line  revol.util  inq.last.6mths  delinq.2yrs  pub.rec\n",
      "  2   3  log.annual.inc  days.with.cr.line  revol.util  inq.last.6mths  delinq.2yrs  pub.rec\n",
      "  2   4  log.annual.inc  days.with.cr.line  revol.util  inq.last.6mths  delinq.2yrs  pub.rec\n",
      "  2   5  log.annual.inc  days.with.cr.line  revol.util  inq.last.6mths  delinq.2yrs  pub.rec\n",
      "  3   1  log.annual.inc  days.with.cr.line  revol.util  inq.last.6mths  delinq.2yrs  pub.rec\n",
      "  3   2  log.annual.inc  days.with.cr.line  revol.util  inq.last.6mths  delinq.2yrs  pub.rec\n",
      "  3   3  log.annual.inc  days.with.cr.line  revol.util  inq.last.6mths  delinq.2yrs  pub.rec\n",
      "  3   4  log.annual.inc  days.with.cr.line  revol.util  inq.last.6mths  delinq.2yrs  pub.rec\n",
      "  3   5  log.annual.inc  days.with.cr.line  revol.util  inq.last.6mths  delinq.2yrs  pub.rec\n",
      "  4   1  log.annual.inc  days.with.cr.line  revol.util  inq.last.6mths  delinq.2yrs  pub.rec\n",
      "  4   2  log.annual.inc  days.with.cr.line  revol.util  inq.last.6mths  delinq.2yrs  pub.rec\n",
      "  4   3  log.annual.inc  days.with.cr.line  revol.util  inq.last.6mths  delinq.2yrs  pub.rec\n",
      "  4   4  log.annual.inc  days.with.cr.line  revol.util  inq.last.6mths  delinq.2yrs  pub.rec\n",
      "  4   5  log.annual.inc  days.with.cr.line  revol.util  inq.last.6mths  delinq.2yrs  pub.rec\n",
      "  5   1  log.annual.inc  days.with.cr.line  revol.util  inq.last.6mths  delinq.2yrs  pub.rec\n",
      "  5   2  log.annual.inc  days.with.cr.line  revol.util  inq.last.6mths  delinq.2yrs  pub.rec\n",
      "  5   3  log.annual.inc  days.with.cr.line  revol.util  inq.last.6mths  delinq.2yrs  pub.rec\n",
      "  5   4  log.annual.inc  days.with.cr.line  revol.util  inq.last.6mths  delinq.2yrs  pub.rec\n",
      "  5   5  log.annual.inc  days.with.cr.line  revol.util  inq.last.6mths  delinq.2yrs  pub.rec\n"
     ]
    }
   ],
   "source": [
    "set.seed(144)\n",
    "\n",
    "# set vars.for.imputation to all variables in the data frame except for not.fully.paid, \n",
    "# to impute the values using all of the other independent variables.\n",
    "vars.for.imputation = setdiff(names(loans), \"not.fully.paid\")\n",
    "\n",
    "imputed = complete(mice(loans[vars.for.imputation]))\n",
    "\n",
    "loans[vars.for.imputation] = imputed"
   ]
  },
  {
   "cell_type": "markdown",
   "metadata": {},
   "source": [
    "## The Model ##"
   ]
  },
  {
   "cell_type": "markdown",
   "metadata": {},
   "source": [
    "We start by splitting our data set into training and testing portions and building a logistic model using all independent variables."
   ]
  },
  {
   "cell_type": "code",
   "execution_count": 42,
   "metadata": {},
   "outputs": [
    {
     "name": "stderr",
     "output_type": "stream",
     "text": [
      "Warning message in install.packages(\"caTools\"):\n",
      "“installation of package ‘caTools’ had non-zero exit status”Updating HTML index of packages in '.Library'\n",
      "Making 'packages.html' ... done\n"
     ]
    }
   ],
   "source": [
    "install.packages(\"caTools\")\n",
    "library(caTools)"
   ]
  },
  {
   "cell_type": "code",
   "execution_count": 44,
   "metadata": {},
   "outputs": [],
   "source": [
    "set.seed(144)\n",
    "\n",
    "spl = sample.split(loans$not.fully.paid, .70)\n",
    "train = subset(loans, spl==TRUE)\n",
    "test = subset(loans, spl==FALSE)"
   ]
  },
  {
   "cell_type": "code",
   "execution_count": 47,
   "metadata": {},
   "outputs": [],
   "source": [
    "logit1 = glm(not.fully.paid ~ ., data=train, family=binomial)"
   ]
  },
  {
   "cell_type": "code",
   "execution_count": 48,
   "metadata": {},
   "outputs": [
    {
     "data": {
      "text/plain": [
       "\n",
       "Call:\n",
       "glm(formula = not.fully.paid ~ ., family = binomial, data = train)\n",
       "\n",
       "Deviance Residuals: \n",
       "    Min       1Q   Median       3Q      Max  \n",
       "-2.2008  -0.6213  -0.4953  -0.3609   2.6389  \n",
       "\n",
       "Coefficients:\n",
       "                            Estimate Std. Error z value Pr(>|z|)    \n",
       "(Intercept)                9.250e+00  1.552e+00   5.959 2.54e-09 ***\n",
       "credit.policy             -3.417e-01  1.009e-01  -3.388 0.000704 ***\n",
       "purposecredit_card        -6.124e-01  1.344e-01  -4.557 5.18e-06 ***\n",
       "purposedebt_consolidation -3.199e-01  9.179e-02  -3.485 0.000493 ***\n",
       "purposeeducational         1.351e-01  1.753e-01   0.771 0.440814    \n",
       "purposehome_improvement    1.728e-01  1.479e-01   1.168 0.242901    \n",
       "purposemajor_purchase     -4.828e-01  2.008e-01  -2.404 0.016215 *  \n",
       "purposesmall_business      4.123e-01  1.418e-01   2.907 0.003653 ** \n",
       "int.rate                   6.434e-01  2.085e+00   0.309 0.757592    \n",
       "installment                1.274e-03  2.092e-04   6.091 1.12e-09 ***\n",
       "log.annual.inc            -4.328e-01  7.145e-02  -6.058 1.38e-09 ***\n",
       "dti                        4.781e-03  5.499e-03   0.869 0.384626    \n",
       "fico                      -9.408e-03  1.706e-03  -5.513 3.53e-08 ***\n",
       "days.with.cr.line          2.967e-06  1.586e-05   0.187 0.851551    \n",
       "revol.bal                  3.082e-06  1.167e-06   2.641 0.008276 ** \n",
       "revol.util                 1.632e-03  1.531e-03   1.066 0.286415    \n",
       "inq.last.6mths             8.227e-02  1.594e-02   5.160 2.48e-07 ***\n",
       "delinq.2yrs               -8.334e-02  6.551e-02  -1.272 0.203280    \n",
       "pub.rec                    3.299e-01  1.138e-01   2.899 0.003740 ** \n",
       "---\n",
       "Signif. codes:  0 ‘***’ 0.001 ‘**’ 0.01 ‘*’ 0.05 ‘.’ 0.1 ‘ ’ 1\n",
       "\n",
       "(Dispersion parameter for binomial family taken to be 1)\n",
       "\n",
       "    Null deviance: 5896.6  on 6704  degrees of freedom\n",
       "Residual deviance: 5486.9  on 6686  degrees of freedom\n",
       "AIC: 5524.9\n",
       "\n",
       "Number of Fisher Scoring iterations: 5\n"
      ]
     },
     "metadata": {},
     "output_type": "display_data"
    }
   ],
   "source": [
    "summary(logit1)"
   ]
  },
  {
   "cell_type": "markdown",
   "metadata": {},
   "source": [
    "As the output above indicates, 11 of our independent variables are significant at the .01 and .001 levels."
   ]
  },
  {
   "cell_type": "markdown",
   "metadata": {},
   "source": [
    "Assume we have two loan applicants, Alice and Bob. Alice has a FICO score of 700, while Bob has a FICO score of 710. Their applications are the same in all respects. Using our model, we can preict the differential in log odds between the two applicants as follows."
   ]
  },
  {
   "cell_type": "code",
   "execution_count": 51,
   "metadata": {},
   "outputs": [
    {
     "data": {
      "text/html": [
       "0.09408"
      ],
      "text/latex": [
       "0.09408"
      ],
      "text/markdown": [
       "0.09408"
      ],
      "text/plain": [
       "[1] 0.09408"
      ]
     },
     "metadata": {},
     "output_type": "display_data"
    }
   ],
   "source": [
    "-9.408e-03*(700-710)"
   ]
  },
  {
   "cell_type": "markdown",
   "metadata": {},
   "source": [
    "The odds of Alice's loan not being paid back should be higher than that of Bob's, but by how much?"
   ]
  },
  {
   "cell_type": "code",
   "execution_count": 52,
   "metadata": {},
   "outputs": [
    {
     "data": {
      "text/html": [
       "1.09864763421233"
      ],
      "text/latex": [
       "1.09864763421233"
      ],
      "text/markdown": [
       "1.09864763421233"
      ],
      "text/plain": [
       "[1] 1.098648"
      ]
     },
     "metadata": {},
     "output_type": "display_data"
    }
   ],
   "source": [
    "exp(0.09408)"
   ]
  },
  {
   "cell_type": "markdown",
   "metadata": {},
   "source": [
    "Alice is approximately 1.099 times more likely to default than Bob. "
   ]
  },
  {
   "cell_type": "markdown",
   "metadata": {},
   "source": [
    "### Out-Sample-Testing ###"
   ]
  },
  {
   "cell_type": "code",
   "execution_count": 53,
   "metadata": {},
   "outputs": [],
   "source": [
    "logit_pred = predict(logit1, newdata=test, type=\"response\")"
   ]
  },
  {
   "cell_type": "code",
   "execution_count": 63,
   "metadata": {},
   "outputs": [],
   "source": [
    "test$pred_risk = logit_pred"
   ]
  },
  {
   "cell_type": "code",
   "execution_count": 94,
   "metadata": {},
   "outputs": [],
   "source": [
    "confusion_mtx = function(df, observed_y, predicted_y, threshold) {\n",
    "    \n",
    "    # Input: dataframe, response variable name as string, vector of \n",
    "    # predicted values as variable, threshold value as float\n",
    "    # \n",
    "    # Output: Confusion matrix to assess model performance\n",
    "    \n",
    "    cmtx=table(df[[observed_y]], predicted_y > threshold)\n",
    "    return (cmtx)\n",
    "}"
   ]
  },
  {
   "cell_type": "code",
   "execution_count": 99,
   "metadata": {},
   "outputs": [
    {
     "data": {
      "text/html": [
       "<table>\n",
       "<thead><tr><th></th><th scope=col>FALSE</th><th scope=col>TRUE</th><th scope=col>Sum</th></tr></thead>\n",
       "<tbody>\n",
       "\t<tr><th scope=row>0</th><td>2400</td><td>13  </td><td>2413</td></tr>\n",
       "\t<tr><th scope=row>1</th><td> 457</td><td> 3  </td><td> 460</td></tr>\n",
       "\t<tr><th scope=row>Sum</th><td>2857</td><td>16  </td><td>2873</td></tr>\n",
       "</tbody>\n",
       "</table>\n"
      ],
      "text/latex": [
       "\\begin{tabular}{r|lll}\n",
       "  & FALSE & TRUE & Sum\\\\\n",
       "\\hline\n",
       "\t0 & 2400 & 13   & 2413\\\\\n",
       "\t1 &  457 &  3   &  460\\\\\n",
       "\tSum & 2857 & 16   & 2873\\\\\n",
       "\\end{tabular}\n"
      ],
      "text/markdown": [
       "\n",
       "| <!--/--> | FALSE | TRUE | Sum |\n",
       "|---|---|---|---|\n",
       "| 0 | 2400 | 13   | 2413 |\n",
       "| 1 |  457 |  3   |  460 |\n",
       "| Sum | 2857 | 16   | 2873 |\n",
       "\n"
      ],
      "text/plain": [
       "     \n",
       "      FALSE TRUE Sum \n",
       "  0   2400  13   2413\n",
       "  1    457   3    460\n",
       "  Sum 2857  16   2873"
      ]
     },
     "metadata": {},
     "output_type": "display_data"
    }
   ],
   "source": [
    "cmtx=confusion_mtx(test, \"not.fully.paid\", logit_pred, .5)\n",
    "addmargins(cmtx)"
   ]
  },
  {
   "cell_type": "code",
   "execution_count": 98,
   "metadata": {},
   "outputs": [
    {
     "name": "stdout",
     "output_type": "stream",
     "text": [
      "Based on the confusion matrix, the out-of-sample accuracy of our model is 83.64 %."
     ]
    }
   ],
   "source": [
    "confusion_accuracy = function(confusion_matrix) {\n",
    "    \n",
    "    # Input: confusion matrix\n",
    "    #\n",
    "    # Output: Message stating the accuracy of the model based on the data\n",
    "    # contained in the matrix.\n",
    "    \n",
    "    accuracy = sum(diag(prop.table(confusion_matrix)))\n",
    "\n",
    "    return (cat(paste(\"Based on the confusion matrix, the out-of-sample accuracy of our model is\", round(accuracy,4)*100, \"%.\")))\n",
    "}\n",
    "\n",
    "confusion_accuracy(cmtx)"
   ]
  },
  {
   "cell_type": "markdown",
   "metadata": {},
   "source": [
    "As per usual, we now ask how our model compares to a baseline prediction derived from the test set."
   ]
  },
  {
   "cell_type": "code",
   "execution_count": 127,
   "metadata": {},
   "outputs": [
    {
     "name": "stdout",
     "output_type": "stream",
     "text": [
      "Our baseline model has an accuracy of  83.54 %."
     ]
    }
   ],
   "source": [
    "cat(paste(\"Our baseline model has an accuracy of \", round(((cmtx[[1]])/nrow(test)), 4)*100, \"%.\"))"
   ]
  },
  {
   "cell_type": "markdown",
   "metadata": {},
   "source": [
    "The difference between our model's accuracy and that of the baseline is hardly overwhelming (83.6% vs 83.5%). This begs the question whether or not its still usable. "
   ]
  },
  {
   "cell_type": "markdown",
   "metadata": {},
   "source": [
    "### The ROC Curve ###"
   ]
  },
  {
   "cell_type": "markdown",
   "metadata": {},
   "source": [
    "We'll consult the Receiver Operator Characteristic (ROC) to assess model performance further. "
   ]
  },
  {
   "cell_type": "code",
   "execution_count": 116,
   "metadata": {},
   "outputs": [
    {
     "name": "stderr",
     "output_type": "stream",
     "text": [
      "Updating HTML index of packages in '.Library'\n",
      "Making 'packages.html' ... done\n",
      "Loading required package: gplots\n",
      "Warning message:\n",
      "“package ‘gplots’ was built under R version 3.6.1”\n",
      "Attaching package: ‘gplots’\n",
      "\n",
      "The following object is masked from ‘package:stats’:\n",
      "\n",
      "    lowess\n",
      "\n"
     ]
    }
   ],
   "source": [
    "install.packages(\"ROCR\")\n",
    "library(ROCR)"
   ]
  },
  {
   "cell_type": "markdown",
   "metadata": {},
   "source": [
    "Below, we calculate the area under the curve (AUC) for the test set using the .5 threshold. It seems that our model does better than the AUC benchmark of .5, indicative of a random process akin to a coin toss. "
   ]
  },
  {
   "cell_type": "code",
   "execution_count": 121,
   "metadata": {},
   "outputs": [
    {
     "name": "stdout",
     "output_type": "stream",
     "text": [
      "67.21 %"
     ]
    }
   ],
   "source": [
    "pred = prediction(test$pred_risk, test$not.fully.paid)\n",
    "cat(paste(round(as.numeric(performance(pred, \"auc\")@y.values), 4)*100),\"%\")"
   ]
  },
  {
   "cell_type": "markdown",
   "metadata": {},
   "source": [
    "### An Alternative Model ###"
   ]
  },
  {
   "cell_type": "markdown",
   "metadata": {},
   "source": [
    "Interest rates capture the risk associated with repayment. Though it was not statistically significant in the first model, this was likely due to multicollinearity. Here, we construct a bivariate model using only interest rate that will serve as a new **smart baseline**."
   ]
  },
  {
   "cell_type": "code",
   "execution_count": 122,
   "metadata": {},
   "outputs": [],
   "source": [
    "logit2 = glm(not.fully.paid ~ int.rate, data=train, family=binomial)"
   ]
  },
  {
   "cell_type": "code",
   "execution_count": 123,
   "metadata": {},
   "outputs": [],
   "source": [
    "logit2_pred = predict(logit2, newdata=test, type=\"response\")"
   ]
  },
  {
   "cell_type": "markdown",
   "metadata": {},
   "source": [
    "Interestingly, the summary data below indicate the maximum probabiity of default is 42.66%. Using a 50% threshold, this implies absolutely no loans will be flagged as \"not.fully.paid.\" This is every investment manager's fantasy portfolio -- a collection of loans with no defaults. It is a scenario, however, that seems highly unlikely. "
   ]
  },
  {
   "cell_type": "code",
   "execution_count": 211,
   "metadata": {},
   "outputs": [
    {
     "data": {
      "text/plain": [
       "   Min. 1st Qu.  Median    Mean 3rd Qu.    Max. \n",
       "0.06196 0.11549 0.15077 0.15963 0.18928 0.42662 "
      ]
     },
     "metadata": {},
     "output_type": "display_data"
    }
   ],
   "source": [
    "summary(logit2_pred)"
   ]
  },
  {
   "cell_type": "markdown",
   "metadata": {},
   "source": [
    "Below is the AUC calculation for our second model. "
   ]
  },
  {
   "cell_type": "code",
   "execution_count": 143,
   "metadata": {},
   "outputs": [
    {
     "name": "stdout",
     "output_type": "stream",
     "text": [
      "62.39 %"
     ]
    }
   ],
   "source": [
    "pred2 = prediction(logit2_pred, test$not.fully.paid)\n",
    "cat(paste(round(as.numeric(performance(pred2, \"auc\")@y.values), 4)*100),\"%\")"
   ]
  },
  {
   "cell_type": "markdown",
   "metadata": {},
   "source": [
    "The AUC above is worse than that of our first model. This result is actually quite significant. In the words of one hedge fund manager, assigning an interest rate to a corporate loan, \"Is not a scientific process.\" Given that a model using solely the interest rate a lender assigns to a credit as a predictor of defaault undrperformed a more nuanced model that could still be improved, we can say that, indeed, interest rate assignment is **not** a scientific process. Perhaps it should be, as it is interpreted as the sine qua non of default expectations and a figure that fully compensates the lender in the event of default. Perhaps this is not the case. "
   ]
  },
  {
   "cell_type": "markdown",
   "metadata": {},
   "source": [
    "### A Simplified Investment Scenario ###"
   ]
  },
  {
   "cell_type": "markdown",
   "metadata": {},
   "source": [
    "Assuming interest compunds continuously for every investment, $I$, according to the formula $I\\cdot\\text{e}^{rt}$, has a three-year investment term, and total loss if the loan is not paid in full, we calculate the maximum expected profit of a $10 investment in any loan in our test set."
   ]
  },
  {
   "cell_type": "code",
   "execution_count": 145,
   "metadata": {},
   "outputs": [],
   "source": [
    "test$profit = exp(test$int.rate*3) - 1\n",
    "\n",
    "test$profit[test$not.fully.paid == 1] = -1"
   ]
  },
  {
   "cell_type": "code",
   "execution_count": 153,
   "metadata": {},
   "outputs": [
    {
     "name": "stdout",
     "output_type": "stream",
     "text": [
      "The max profit for any loan in our test set under the assumptions outlined above is $ 8.89 ."
     ]
    }
   ],
   "source": [
    "cat(paste(\"The max profit for any loan in our test set under the assumptions outlined above is $\", round(max(test$profit)*10,2),\".\"))"
   ]
  },
  {
   "cell_type": "markdown",
   "metadata": {},
   "source": [
    "### A Risk Based Investment Approach ###"
   ]
  },
  {
   "cell_type": "markdown",
   "metadata": {},
   "source": [
    "We wish to invest in the highest yielding loans that have the lowest risk of default. In this section, we do just that."
   ]
  },
  {
   "cell_type": "code",
   "execution_count": 154,
   "metadata": {},
   "outputs": [],
   "source": [
    "high_yield = subset(test, test$int.rate >.15)"
   ]
  },
  {
   "cell_type": "code",
   "execution_count": 183,
   "metadata": {},
   "outputs": [
    {
     "name": "stdout",
     "output_type": "stream",
     "text": [
      "The mean profit of a $1 investment in a high-yield loan (int. rate > 15%) in our test set is 0.2251 ."
     ]
    }
   ],
   "source": [
    "cat(paste(\"The mean profit of a $1 investment in a high-yield loan (int. rate > 15%) in our test set is\", round(mean(high_yield$profit),4),\".\"))"
   ]
  },
  {
   "cell_type": "code",
   "execution_count": 173,
   "metadata": {},
   "outputs": [
    {
     "name": "stdout",
     "output_type": "stream",
     "text": [
      "The percentage of high-yield loans (int. rate > 15%) not fully repaid in our test is 25.17 %."
     ]
    }
   ],
   "source": [
    "cat(paste(\"The percentage of high-yield loans (int. rate > 15%) not fully repaid in our test is\", round(prop.table(table(high_yield$not.fully.paid))[[2]]*100,2),\"%.\"))"
   ]
  },
  {
   "cell_type": "markdown",
   "metadata": {},
   "source": [
    "We will further refine our high-yield portfolio by setting a cutoff for the maximum predicted risk for loans we will in this cohort. Additionally, we'll limit the size of our portfolio to 100 investments. "
   ]
  },
  {
   "cell_type": "code",
   "execution_count": 199,
   "metadata": {},
   "outputs": [
    {
     "data": {
      "text/html": [
       "17.71"
      ],
      "text/latex": [
       "17.71"
      ],
      "text/markdown": [
       "17.71"
      ],
      "text/plain": [
       "[1] 17.71"
      ]
     },
     "metadata": {},
     "output_type": "display_data"
    }
   ],
   "source": [
    "max_risk = round(sort(high_yield$pred_risk, decreasing=FALSE)[100],4)*100\n",
    "max_risk"
   ]
  },
  {
   "cell_type": "code",
   "execution_count": 182,
   "metadata": {},
   "outputs": [
    {
     "data": {
      "text/html": [
       "100"
      ],
      "text/latex": [
       "100"
      ],
      "text/markdown": [
       "100"
      ],
      "text/plain": [
       "[1] 100"
      ]
     },
     "metadata": {},
     "output_type": "display_data"
    }
   ],
   "source": [
    "high_yield2 = subset(high_yield, pred_risk <= max_risk)\n",
    "nrow(high_yield2)"
   ]
  },
  {
   "cell_type": "code",
   "execution_count": 205,
   "metadata": {},
   "outputs": [
    {
     "name": "stdout",
     "output_type": "stream",
     "text": [
      "The profit from a $1 investment in every loan in our refined high-yield portfolio is         $ 31.28 ."
     ]
    }
   ],
   "source": [
    "cat(paste(\"The profit from a $1 investment in every loan in our refined high-yield portfolio is         $\", round(sum(high_yield2$profit),2),\".\"))"
   ]
  },
  {
   "cell_type": "code",
   "execution_count": 212,
   "metadata": {},
   "outputs": [
    {
     "name": "stdout",
     "output_type": "stream",
     "text": [
      "The percentage of high-yield loans in our refined portfolio not fully repaid in our test is  19 %."
     ]
    }
   ],
   "source": [
    "cat(paste(\"The percentage of high-yield loans in our refined portfolio not fully repaid in our test is \", round(prop.table(table(high_yield2$not.fully.paid))[[2]]*100,2),\"%.\"))"
   ]
  },
  {
   "cell_type": "markdown",
   "metadata": {},
   "source": [
    "**In summary, we used our first model to create a high-yield investment portfolio that maximized our expected profit while minimizing our exposure to loans most likely to default.**"
   ]
  }
 ],
 "metadata": {
  "kernelspec": {
   "display_name": "R",
   "language": "R",
   "name": "ir"
  },
  "language_info": {
   "codemirror_mode": "r",
   "file_extension": ".r",
   "mimetype": "text/x-r-source",
   "name": "R",
   "pygments_lexer": "r",
   "version": "3.6.0"
  }
 },
 "nbformat": 4,
 "nbformat_minor": 2
}
